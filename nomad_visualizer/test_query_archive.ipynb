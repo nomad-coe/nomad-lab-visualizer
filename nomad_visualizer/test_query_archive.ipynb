{
 "cells": [
  {
   "cell_type": "code",
   "execution_count": 1,
   "metadata": {
    "ExecuteTime": {
     "end_time": "2022-09-07T10:32:36.909299Z",
     "start_time": "2022-09-07T10:32:36.895437Z"
    }
   },
   "outputs": [],
   "source": [
    "%load_ext autoreload\n",
    "%autoreload 2"
   ]
  },
  {
   "cell_type": "code",
   "execution_count": 2,
   "metadata": {
    "ExecuteTime": {
     "end_time": "2022-09-07T10:32:37.724258Z",
     "start_time": "2022-09-07T10:32:36.911514Z"
    }
   },
   "outputs": [],
   "source": [
    "import pandas as pd\n",
    "from visualizer import Visualizer"
   ]
  },
  {
   "cell_type": "code",
   "execution_count": 3,
   "metadata": {
    "ExecuteTime": {
     "end_time": "2022-09-07T10:32:37.743476Z",
     "start_time": "2022-09-07T10:32:37.725984Z"
    }
   },
   "outputs": [],
   "source": [
    "df=pd.read_pickle('./data/query_archive/df')"
   ]
  },
  {
   "cell_type": "code",
   "execution_count": 4,
   "metadata": {
    "ExecuteTime": {
     "end_time": "2022-09-07T10:32:37.759625Z",
     "start_time": "2022-09-07T10:32:37.744953Z"
    }
   },
   "outputs": [],
   "source": [
    "embedding_features = ['x_emb','y_emb', 'Atomic_number_A', 'Atomic_number_B']\n",
    "hover_features = ['Atomic_number_A', 'Atomic_number_B', 'Space_group_number', 'Atomic_density', 'Cluster_label']"
   ]
  },
  {
   "cell_type": "code",
   "execution_count": 5,
   "metadata": {
    "ExecuteTime": {
     "end_time": "2022-09-07T10:32:38.321873Z",
     "start_time": "2022-09-07T10:32:37.760985Z"
    },
    "scrolled": true
   },
   "outputs": [],
   "source": [
    "visualizer=Visualizer(df, embedding_features, hover_features, \n",
    "                      target='Cluster_label', \n",
    "                      path_to_structures='./data/octet_binaries/structures',\n",
    "                      smart_fract = False,\n",
    "                      convex_hull=False\n",
    "                     )"
   ]
  },
  {
   "cell_type": "code",
   "execution_count": 6,
   "metadata": {
    "ExecuteTime": {
     "end_time": "2022-09-07T10:32:38.706460Z",
     "start_time": "2022-09-07T10:32:38.323760Z"
    },
    "scrolled": false
   },
   "outputs": [
    {
     "data": {
      "application/vnd.jupyter.widget-view+json": {
       "model_id": "5b45246aaea843bf93a04859888bc0fa",
       "version_major": 2,
       "version_minor": 0
      },
      "text/plain": [
       "VBox(children=(VBox(children=(HBox(children=(VBox(children=(Dropdown(description='x-axis', layout=Layout(width…"
      ]
     },
     "metadata": {},
     "output_type": "display_data"
    }
   ],
   "source": [
    "visualizer.show()"
   ]
  }
 ],
 "metadata": {
  "kernelspec": {
   "display_name": "Python 3",
   "language": "python",
   "name": "python3"
  },
  "language_info": {
   "codemirror_mode": {
    "name": "ipython",
    "version": 3
   },
   "file_extension": ".py",
   "mimetype": "text/x-python",
   "name": "python",
   "nbconvert_exporter": "python",
   "pygments_lexer": "ipython3",
   "version": "3.7.3"
  }
 },
 "nbformat": 4,
 "nbformat_minor": 5
}
