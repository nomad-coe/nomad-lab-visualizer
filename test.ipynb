{
 "cells": [
  {
   "cell_type": "code",
   "execution_count": 1,
   "metadata": {
    "ExecuteTime": {
     "end_time": "2021-05-17T16:54:46.286137Z",
     "start_time": "2021-05-17T16:54:46.266487Z"
    }
   },
   "outputs": [],
   "source": [
    "%load_ext autoreload\n",
    "%autoreload 2"
   ]
  },
  {
   "cell_type": "code",
   "execution_count": 2,
   "metadata": {
    "ExecuteTime": {
     "end_time": "2021-05-17T16:54:46.578226Z",
     "start_time": "2021-05-17T16:54:46.290055Z"
    }
   },
   "outputs": [],
   "source": [
    "import pandas as pd\n",
    "import numpy as np"
   ]
  },
  {
   "cell_type": "code",
   "execution_count": 3,
   "metadata": {
    "ExecuteTime": {
     "end_time": "2021-05-17T16:54:46.720263Z",
     "start_time": "2021-05-17T16:54:46.580162Z"
    }
   },
   "outputs": [],
   "source": [
    "from visualizer import Visualizer"
   ]
  },
  {
   "cell_type": "code",
   "execution_count": 4,
   "metadata": {
    "ExecuteTime": {
     "end_time": "2021-05-17T16:54:46.832411Z",
     "start_time": "2021-05-17T16:54:46.721661Z"
    }
   },
   "outputs": [],
   "source": [
    "from cpp_sisso import get_max_number_feats, get_estimate_n_feat_next_rung, generate_fs, SISSOClassifier, generate_phi_0_from_csv, FeatureSpace"
   ]
  },
  {
   "cell_type": "code",
   "execution_count": 5,
   "metadata": {
    "ExecuteTime": {
     "end_time": "2021-05-17T16:54:46.878556Z",
     "start_time": "2021-05-17T16:54:46.835323Z"
    }
   },
   "outputs": [],
   "source": [
    "df_train = pd.read_pickle('./data/training_set')"
   ]
  },
  {
   "cell_type": "code",
   "execution_count": 6,
   "metadata": {
    "ExecuteTime": {
     "end_time": "2021-05-17T16:54:49.786721Z",
     "start_time": "2021-05-17T16:54:46.880081Z"
    }
   },
   "outputs": [],
   "source": [
    "# dataset for SISSO - tetradymites tutorial\n",
    "phi_0, prop_unit, prop, prop_test, task_sizes_train, task_sizes_test, leave_out_inds = generate_phi_0_from_csv(\n",
    "df_train, \"Class\", cols='all', task_key=None, leave_out_frac=0.0\n",
    ")\n",
    "feat_space = generate_fs(\n",
    "    phi_0, \n",
    "    prop, \n",
    "    task_sizes_train, \n",
    "    [\"add\", \"sub\", \"mult\", \"div\", \"abs_diff\", \"sq\", \"cb\", \"sqrt\", \"cbrt\", \"inv\", \"abs\"],  \n",
    "    \"classification\",\n",
    "    0, \n",
    "    20\n",
    ")\n",
    "sisso = SISSOClassifier(\n",
    "    feat_space,\n",
    "    prop_unit,\n",
    "    prop,\n",
    "    prop_test,\n",
    "    task_sizes_train,\n",
    "    task_sizes_test,\n",
    "    leave_out_inds,\n",
    "    2,\n",
    "    10,\n",
    "    10\n",
    ")\n",
    "sisso.fit()\n",
    "model = sisso.models[1][0]\n",
    "classified=model.prop_train\n",
    "compounds = df_train.index.to_list()\n",
    "df=pd.DataFrame(data={\n",
    "    \"Compound\":compounds,\n",
    "    \"Classification\":classified})\n",
    "for feat in sisso.models[sisso.n_dim-1][0].feats:\n",
    "    df[str(feat)]=feat.value\n",
    "classes = ['Topological insulators', 'Trivial insulators']\n"
   ]
  },
  {
   "cell_type": "code",
   "execution_count": 7,
   "metadata": {
    "ExecuteTime": {
     "end_time": "2021-05-17T16:54:49.805309Z",
     "start_time": "2021-05-17T16:54:49.788430Z"
    }
   },
   "outputs": [],
   "source": [
    "features = []\n",
    "for feat in sisso.models[sisso.n_dim-1][0].feats:\n",
    "    features.append(feat)"
   ]
  },
  {
   "cell_type": "code",
   "execution_count": 8,
   "metadata": {
    "ExecuteTime": {
     "end_time": "2021-05-17T16:54:49.819744Z",
     "start_time": "2021-05-17T16:54:49.807479Z"
    }
   },
   "outputs": [],
   "source": [
    "df['Classes']=np.where(df['Classification']==0,classes[0],classes[1])"
   ]
  },
  {
   "cell_type": "code",
   "execution_count": 9,
   "metadata": {
    "ExecuteTime": {
     "end_time": "2021-05-17T16:54:49.834593Z",
     "start_time": "2021-05-17T16:54:49.821711Z"
    },
    "scrolled": true
   },
   "outputs": [],
   "source": [
    "df=df.set_index('Compound')"
   ]
  },
  {
   "cell_type": "code",
   "execution_count": 10,
   "metadata": {
    "ExecuteTime": {
     "end_time": "2021-05-17T16:54:49.862673Z",
     "start_time": "2021-05-17T16:54:49.835954Z"
    },
    "scrolled": true
   },
   "outputs": [
    {
     "data": {
      "text/html": [
       "<div>\n",
       "<style scoped>\n",
       "    .dataframe tbody tr th:only-of-type {\n",
       "        vertical-align: middle;\n",
       "    }\n",
       "\n",
       "    .dataframe tbody tr th {\n",
       "        vertical-align: top;\n",
       "    }\n",
       "\n",
       "    .dataframe thead th {\n",
       "        text-align: right;\n",
       "    }\n",
       "</style>\n",
       "<table border=\"1\" class=\"dataframe\">\n",
       "  <thead>\n",
       "    <tr style=\"text-align: right;\">\n",
       "      <th></th>\n",
       "      <th>Classification</th>\n",
       "      <th>abs[[[X16C+X16D]*[Z11E/X16B]]-[[Z11C+Z11D]+abs[Z11C-Z11D]]]</th>\n",
       "      <th>[[[Z11A+Z11B]*[Z11C+Z11D]]-abs[[Z11A*Z11D]-[Z11B*Z11C]]]</th>\n",
       "      <th>Classes</th>\n",
       "    </tr>\n",
       "    <tr>\n",
       "      <th>Compound</th>\n",
       "      <th></th>\n",
       "      <th></th>\n",
       "      <th></th>\n",
       "      <th></th>\n",
       "    </tr>\n",
       "  </thead>\n",
       "  <tbody>\n",
       "    <tr>\n",
       "      <th>Sb_Sb_Te_Te_Te</th>\n",
       "      <td>0.0</td>\n",
       "      <td>3.5512</td>\n",
       "      <td>10608.0</td>\n",
       "      <td>Topological insulators</td>\n",
       "    </tr>\n",
       "    <tr>\n",
       "      <th>As_Bi_Te_Te_S</th>\n",
       "      <td>0.0</td>\n",
       "      <td>70.4160</td>\n",
       "      <td>9464.0</td>\n",
       "      <td>Topological insulators</td>\n",
       "    </tr>\n",
       "    <tr>\n",
       "      <th>Bi_Bi_Te_Se_Se</th>\n",
       "      <td>0.0</td>\n",
       "      <td>25.3960</td>\n",
       "      <td>12782.0</td>\n",
       "      <td>Topological insulators</td>\n",
       "    </tr>\n",
       "    <tr>\n",
       "      <th>Bi_Sb_Te_S_Te</th>\n",
       "      <td>0.0</td>\n",
       "      <td>15.2200</td>\n",
       "      <td>7788.0</td>\n",
       "      <td>Topological insulators</td>\n",
       "    </tr>\n",
       "    <tr>\n",
       "      <th>Bi_As_Te_Se_Te</th>\n",
       "      <td>0.0</td>\n",
       "      <td>7.3945</td>\n",
       "      <td>8870.0</td>\n",
       "      <td>Topological insulators</td>\n",
       "    </tr>\n",
       "    <tr>\n",
       "      <th>...</th>\n",
       "      <td>...</td>\n",
       "      <td>...</td>\n",
       "      <td>...</td>\n",
       "      <td>...</td>\n",
       "    </tr>\n",
       "    <tr>\n",
       "      <th>Bi_Sb_S_S_Se</th>\n",
       "      <td>1.0</td>\n",
       "      <td>53.5800</td>\n",
       "      <td>3776.0</td>\n",
       "      <td>Trivial insulators</td>\n",
       "    </tr>\n",
       "    <tr>\n",
       "      <th>Sb_Sb_Te_Se_S</th>\n",
       "      <td>1.0</td>\n",
       "      <td>67.5510</td>\n",
       "      <td>7854.0</td>\n",
       "      <td>Trivial insulators</td>\n",
       "    </tr>\n",
       "    <tr>\n",
       "      <th>Sb_Sb_Se_Te_S</th>\n",
       "      <td>1.0</td>\n",
       "      <td>67.5510</td>\n",
       "      <td>7854.0</td>\n",
       "      <td>Trivial insulators</td>\n",
       "    </tr>\n",
       "    <tr>\n",
       "      <th>Bi_Bi_S_S_S</th>\n",
       "      <td>1.0</td>\n",
       "      <td>8.8713</td>\n",
       "      <td>5312.0</td>\n",
       "      <td>Trivial insulators</td>\n",
       "    </tr>\n",
       "    <tr>\n",
       "      <th>As_As_Te_Te_Se</th>\n",
       "      <td>1.0</td>\n",
       "      <td>37.8720</td>\n",
       "      <td>6864.0</td>\n",
       "      <td>Trivial insulators</td>\n",
       "    </tr>\n",
       "  </tbody>\n",
       "</table>\n",
       "<p>152 rows × 4 columns</p>\n",
       "</div>"
      ],
      "text/plain": [
       "                Classification  \\\n",
       "Compound                         \n",
       "Sb_Sb_Te_Te_Te             0.0   \n",
       "As_Bi_Te_Te_S              0.0   \n",
       "Bi_Bi_Te_Se_Se             0.0   \n",
       "Bi_Sb_Te_S_Te              0.0   \n",
       "Bi_As_Te_Se_Te             0.0   \n",
       "...                        ...   \n",
       "Bi_Sb_S_S_Se               1.0   \n",
       "Sb_Sb_Te_Se_S              1.0   \n",
       "Sb_Sb_Se_Te_S              1.0   \n",
       "Bi_Bi_S_S_S                1.0   \n",
       "As_As_Te_Te_Se             1.0   \n",
       "\n",
       "                abs[[[X16C+X16D]*[Z11E/X16B]]-[[Z11C+Z11D]+abs[Z11C-Z11D]]]  \\\n",
       "Compound                                                                      \n",
       "Sb_Sb_Te_Te_Te                                             3.5512             \n",
       "As_Bi_Te_Te_S                                             70.4160             \n",
       "Bi_Bi_Te_Se_Se                                            25.3960             \n",
       "Bi_Sb_Te_S_Te                                             15.2200             \n",
       "Bi_As_Te_Se_Te                                             7.3945             \n",
       "...                                                           ...             \n",
       "Bi_Sb_S_S_Se                                              53.5800             \n",
       "Sb_Sb_Te_Se_S                                             67.5510             \n",
       "Sb_Sb_Se_Te_S                                             67.5510             \n",
       "Bi_Bi_S_S_S                                                8.8713             \n",
       "As_As_Te_Te_Se                                            37.8720             \n",
       "\n",
       "                [[[Z11A+Z11B]*[Z11C+Z11D]]-abs[[Z11A*Z11D]-[Z11B*Z11C]]]  \\\n",
       "Compound                                                                   \n",
       "Sb_Sb_Te_Te_Te                                            10608.0          \n",
       "As_Bi_Te_Te_S                                              9464.0          \n",
       "Bi_Bi_Te_Se_Se                                            12782.0          \n",
       "Bi_Sb_Te_S_Te                                              7788.0          \n",
       "Bi_As_Te_Se_Te                                             8870.0          \n",
       "...                                                           ...          \n",
       "Bi_Sb_S_S_Se                                               3776.0          \n",
       "Sb_Sb_Te_Se_S                                              7854.0          \n",
       "Sb_Sb_Se_Te_S                                              7854.0          \n",
       "Bi_Bi_S_S_S                                                5312.0          \n",
       "As_As_Te_Te_Se                                             6864.0          \n",
       "\n",
       "                               Classes  \n",
       "Compound                                \n",
       "Sb_Sb_Te_Te_Te  Topological insulators  \n",
       "As_Bi_Te_Te_S   Topological insulators  \n",
       "Bi_Bi_Te_Se_Se  Topological insulators  \n",
       "Bi_Sb_Te_S_Te   Topological insulators  \n",
       "Bi_As_Te_Se_Te  Topological insulators  \n",
       "...                                ...  \n",
       "Bi_Sb_S_S_Se        Trivial insulators  \n",
       "Sb_Sb_Te_Se_S       Trivial insulators  \n",
       "Sb_Sb_Se_Te_S       Trivial insulators  \n",
       "Bi_Bi_S_S_S         Trivial insulators  \n",
       "As_As_Te_Te_Se      Trivial insulators  \n",
       "\n",
       "[152 rows x 4 columns]"
      ]
     },
     "execution_count": 10,
     "metadata": {},
     "output_type": "execute_result"
    }
   ],
   "source": [
    "df"
   ]
  },
  {
   "cell_type": "code",
   "execution_count": 11,
   "metadata": {
    "ExecuteTime": {
     "end_time": "2021-05-17T16:54:50.378525Z",
     "start_time": "2021-05-17T16:54:49.864393Z"
    },
    "scrolled": true
   },
   "outputs": [],
   "source": [
    "visualizer=Visualizer(df, sisso, classes, features, ['Classification'])"
   ]
  },
  {
   "cell_type": "code",
   "execution_count": 12,
   "metadata": {
    "ExecuteTime": {
     "end_time": "2021-05-17T16:54:50.452146Z",
     "start_time": "2021-05-17T16:54:50.380279Z"
    },
    "scrolled": false
   },
   "outputs": [
    {
     "data": {
      "application/vnd.jupyter.widget-view+json": {
       "model_id": "b04b63ac52a04272ba9a9caeb9af0a5c",
       "version_major": 2,
       "version_minor": 0
      },
      "text/plain": [
       "VBox(children=(HBox(children=(VBox(children=(Dropdown(description='x-axis', options=(abs[[[X16C+X16D]*[Z11E/X1…"
      ]
     },
     "metadata": {},
     "output_type": "display_data"
    }
   ],
   "source": [
    "visualizer.show()"
   ]
  },
  {
   "cell_type": "code",
   "execution_count": null,
   "metadata": {},
   "outputs": [],
   "source": []
  }
 ],
 "metadata": {
  "kernelspec": {
   "display_name": "Python 3",
   "language": "python",
   "name": "python3"
  },
  "language_info": {
   "codemirror_mode": {
    "name": "ipython",
    "version": 3
   },
   "file_extension": ".py",
   "mimetype": "text/x-python",
   "name": "python",
   "nbconvert_exporter": "python",
   "pygments_lexer": "ipython3",
   "version": "3.7.10"
  }
 },
 "nbformat": 4,
 "nbformat_minor": 2
}
