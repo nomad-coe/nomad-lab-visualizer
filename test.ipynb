{
 "metadata": {
  "language_info": {
   "codemirror_mode": {
    "name": "ipython",
    "version": 3
   },
   "file_extension": ".py",
   "mimetype": "text/x-python",
   "name": "python",
   "nbconvert_exporter": "python",
   "pygments_lexer": "ipython3",
   "version": "3.7.10"
  },
  "orig_nbformat": 2,
  "kernelspec": {
   "name": "python3710jvsc74a57bd0e2d29d82002ea6512b91449d83d245755acadc5ff7615acc5ba7babcd12c2b96",
   "display_name": "Python 3.7.10 64-bit ('analytics': conda)"
  }
 },
 "nbformat": 4,
 "nbformat_minor": 2,
 "cells": [
  {
   "cell_type": "code",
   "execution_count": 3,
   "metadata": {},
   "outputs": [],
   "source": [
    "import pandas as pd"
   ]
  },
  {
   "cell_type": "code",
   "execution_count": 16,
   "metadata": {},
   "outputs": [],
   "source": [
    "from visualizer import Visualizer"
   ]
  },
  {
   "cell_type": "code",
   "execution_count": 20,
   "metadata": {},
   "outputs": [],
   "source": [
    "from cpp_sisso import get_max_number_feats, get_estimate_n_feat_next_rung, generate_fs, SISSOClassifier, generate_phi_0_from_csv, FeatureSpace"
   ]
  },
  {
   "cell_type": "code",
   "execution_count": 21,
   "metadata": {},
   "outputs": [],
   "source": [
    "df_train = pd.read_pickle('./data/training_set')"
   ]
  },
  {
   "cell_type": "code",
   "execution_count": 32,
   "metadata": {},
   "outputs": [],
   "source": [
    "# dataset for SISSO - tetradymites tutorial\n",
    "phi_0, prop_unit, prop, prop_test, task_sizes_train, task_sizes_test, leave_out_inds = generate_phi_0_from_csv(\n",
    "df_train, \"Class\", cols='all', task_key=None, leave_out_frac=0.0\n",
    ")\n",
    "feat_space = generate_fs(\n",
    "    phi_0, \n",
    "    prop, \n",
    "    task_sizes_train, \n",
    "    [\"add\", \"sub\", \"mult\", \"div\", \"abs_diff\", \"sq\", \"cb\", \"sqrt\", \"cbrt\", \"inv\", \"abs\"],  \n",
    "    \"classification\",\n",
    "    0, \n",
    "    20\n",
    ")\n",
    "sisso = SISSOClassifier(\n",
    "    feat_space,\n",
    "    prop_unit,\n",
    "    prop,\n",
    "    prop_test,\n",
    "    task_sizes_train,\n",
    "    task_sizes_test,\n",
    "    leave_out_inds,\n",
    "    2,\n",
    "    10,\n",
    "    10\n",
    ")\n",
    "sisso.fit()\n",
    "model = sisso.models[1][0]\n",
    "classified=model.prop_train\n",
    "compounds = df_train.index.to_list()\n",
    "df=pd.DataFrame(data={\n",
    "    \"Compound\":compounds,\n",
    "    \"Classification\":classified})\n",
    "for feat in sisso.models[sisso.n_dim-1][0].feats:\n",
    "    df[str(feat)]=feat.value\n",
    "classes = ['Topological insulators', 'Trivial insulators']\n",
    "visualizer=Visualizer(df, sisso, classes)"
   ]
  },
  {
   "cell_type": "code",
   "execution_count": 38,
   "metadata": {},
   "outputs": [],
   "source": [
    "v = Visualizer(df, sisso, classes)"
   ]
  },
  {
   "cell_type": "code",
   "execution_count": 40,
   "metadata": {},
   "outputs": [
    {
     "output_type": "stream",
     "name": "stdout",
     "text": [
      "['circle', 'square', 'triangle-up', 'triangle-down', 'circle-cross', 'circle-x']\n"
     ]
    }
   ],
   "source": [
    "v.print()"
   ]
  },
  {
   "cell_type": "code",
   "execution_count": null,
   "metadata": {},
   "outputs": [],
   "source": []
  }
 ]
}