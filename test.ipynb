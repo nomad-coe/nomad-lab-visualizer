{
 "cells": [
  {
   "cell_type": "code",
   "execution_count": null,
   "metadata": {
    "ExecuteTime": {
     "end_time": "2021-05-17T16:54:46.286137Z",
     "start_time": "2021-05-17T16:54:46.266487Z"
    }
   },
   "outputs": [],
   "source": [
    "%load_ext autoreload\n",
    "%autoreload 2"
   ]
  },
  {
   "cell_type": "code",
   "execution_count": null,
   "metadata": {
    "ExecuteTime": {
     "end_time": "2021-05-17T16:54:46.578226Z",
     "start_time": "2021-05-17T16:54:46.290055Z"
    }
   },
   "outputs": [],
   "source": [
    "import pandas as pd\n",
    "import numpy as np"
   ]
  },
  {
   "cell_type": "code",
   "execution_count": null,
   "metadata": {
    "ExecuteTime": {
     "end_time": "2021-05-17T16:54:46.720263Z",
     "start_time": "2021-05-17T16:54:46.580162Z"
    }
   },
   "outputs": [],
   "source": [
    "from visualizer import Visualizer"
   ]
  },
  {
   "cell_type": "code",
   "execution_count": null,
   "metadata": {
    "ExecuteTime": {
     "end_time": "2021-05-17T16:54:46.832411Z",
     "start_time": "2021-05-17T16:54:46.721661Z"
    }
   },
   "outputs": [],
   "source": [
    "from sissopp import Inputs, FeatureSpace, SISSOClassifier, FeatureNode, Unit\n",
    "from sissopp.py_interface import read_csv\n",
    "from sissopp.py_interface.import_dataframe import get_unit"
   ]
  },
  {
   "cell_type": "code",
   "execution_count": null,
   "metadata": {
    "ExecuteTime": {
     "end_time": "2021-05-17T16:54:46.878556Z",
     "start_time": "2021-05-17T16:54:46.835323Z"
    }
   },
   "outputs": [],
   "source": [
    "df_train = pd.read_pickle('./data/training_set')"
   ]
  },
  {
   "cell_type": "code",
   "execution_count": null,
   "metadata": {},
   "outputs": [],
   "source": [
    "zeta = {'S':16, 'As':33, 'Se':34, 'Sb':51, 'Te':52, 'Bi':83}\n",
    "chi = {'S':2.58, 'As':2.18, 'Se':2.55, 'Sb':2.05, 'Te':2.12, 'Bi':2.02}\n",
    "lambd = {'S':0.05, 'As':0.19, 'Se':0.22, 'Sb':0.4, 'Te':0.49, 'Bi':1.25}\n",
    "\n",
    "df_feat = pd.DataFrame(index=df_train.index, columns=[\n",
    "                                                     'z_A','z_B','z_L','z_M','z_N',\n",
    "                                                     'x_A','x_B','x_L','x_M','x_N',\n",
    "                                                     'l_A','l_B','l_L','l_M','l_N',\n",
    "                                                     ], dtype=object)\n",
    "for comp in df_train.index:\n",
    "    ablmn = comp.split('_')\n",
    "    df_feat.loc[comp] = pd.Series({\n",
    "                                   'z_A':zeta[ablmn[0]],\n",
    "                                   'z_B':zeta[ablmn[1]],\n",
    "                                   'z_L':zeta[ablmn[2]],\n",
    "                                   'z_M':zeta[ablmn[3]],\n",
    "                                   'z_N':zeta[ablmn[4]],\n",
    "                                   'x_A':chi[ablmn[0]],\n",
    "                                   'x_B':chi[ablmn[1]],\n",
    "                                   'x_L':chi[ablmn[2]],\n",
    "                                   'x_M':chi[ablmn[3]],\n",
    "                                   'x_N':chi[ablmn[4]],\n",
    "                                   'l_A':lambd[ablmn[0]],\n",
    "                                   'l_B':lambd[ablmn[1]],\n",
    "                                   'l_L':lambd[ablmn[2]],\n",
    "                                   'l_M':lambd[ablmn[3]],\n",
    "                                   'l_N':lambd[ablmn[4]],\n",
    "                                  }) \n",
    "\n",
    "df_feat['Class'] = df_train['Class']"
   ]
  },
  {
   "cell_type": "code",
   "execution_count": null,
   "metadata": {},
   "outputs": [],
   "source": [
    "max_rung=0\n",
    "n_sis_select=50\n",
    "n_dim=2\n",
    "n_residual=10"
   ]
  },
  {
   "cell_type": "code",
   "execution_count": null,
   "metadata": {},
   "outputs": [],
   "source": [
    "selected_ops = [\"add\", \"sub\", \"mult\", \"div\", \"abs_diff\", \"sq\", \"cb\", \"sqrt\", \"cbrt\", \"inv\", \"abs\"] \n",
    "selected_features = 'all'\n",
    "inputs = read_csv(\n",
    "    df_train, \n",
    "    prop_key=\"Class\",\n",
    "    cols='all',\n",
    "    max_rung=max_rung,\n",
    "    leave_out_frac=0.0,\n",
    "    )"
   ]
  },
  {
   "cell_type": "code",
   "execution_count": null,
   "metadata": {},
   "outputs": [],
   "source": [
    "inputs.max_rung = max_rung\n",
    "inputs.allowed_ops = selected_ops\n",
    "inputs.n_sis_select = n_sis_select\n",
    "inputs.n_dim = n_dim\n",
    "inputs.n_residual = n_residual\n",
    "inputs.n_model_store = 1\n",
    "inputs.calc_type = \"classification\"\n",
    "inputs.sample_ids_train = df_feat.index.tolist()\n",
    "inputs.prop_train = df_feat[\"Class\"].to_numpy()\n",
    "inputs.prop_test = np.array([])\n",
    "inputs.prop_label = \"Class\"\n",
    "inputs.task_names = [\"all_mats\"]\n",
    "\n",
    "\n",
    "feat_space = FeatureSpace(inputs)\n",
    "\n",
    "sisso = SISSOClassifier(inputs, feat_space)"
   ]
  },
  {
   "cell_type": "code",
   "execution_count": null,
   "metadata": {},
   "outputs": [],
   "source": [
    "feat_space = FeatureSpace(inputs)\n",
    "    \n",
    "sisso = SISSOClassifier(inputs, feat_space)"
   ]
  },
  {
   "cell_type": "code",
   "execution_count": null,
   "metadata": {},
   "outputs": [],
   "source": [
    "sisso.fit()"
   ]
  },
  {
   "cell_type": "code",
   "execution_count": null,
   "metadata": {},
   "outputs": [],
   "source": [
    "model = sisso.models[1][0]\n",
    "classified=model.prop_train\n",
    "compounds = df_train.index.to_list()\n",
    "df=pd.DataFrame(data={\n",
    "    \"Compound\":compounds,\n",
    "    \"Classification\":classified})\n",
    "for feat in sisso.models[sisso.n_dim-1][0].feats:\n",
    "    df[str(feat.expr)]=feat.value\n",
    "classes = ['Topological insulators', 'Trivial insulators']\n"
   ]
  },
  {
   "cell_type": "code",
   "execution_count": null,
   "metadata": {
    "ExecuteTime": {
     "end_time": "2021-05-17T16:54:49.819744Z",
     "start_time": "2021-05-17T16:54:49.807479Z"
    }
   },
   "outputs": [],
   "source": [
    "df['Classes']=np.where(df['Classification']==0,classes[0],classes[1])"
   ]
  },
  {
   "cell_type": "code",
   "execution_count": null,
   "metadata": {
    "ExecuteTime": {
     "end_time": "2021-05-17T16:54:49.834593Z",
     "start_time": "2021-05-17T16:54:49.821711Z"
    },
    "scrolled": true
   },
   "outputs": [],
   "source": [
    "df=df.set_index('Compound')"
   ]
  },
  {
   "cell_type": "code",
   "execution_count": null,
   "metadata": {},
   "outputs": [],
   "source": [
    "features = list(reversed([str(str(feat.expr)) for feat in sisso.models[sisso.n_dim - 1][0].feats]))"
   ]
  },
  {
   "cell_type": "code",
   "execution_count": null,
   "metadata": {
    "ExecuteTime": {
     "end_time": "2021-05-17T16:54:50.378525Z",
     "start_time": "2021-05-17T16:54:49.864393Z"
    },
    "scrolled": true
   },
   "outputs": [],
   "source": [
    "visualizer=Visualizer(df, features, features, target='Classification')"
   ]
  },
  {
   "cell_type": "code",
   "execution_count": null,
   "metadata": {
    "ExecuteTime": {
     "end_time": "2021-05-17T16:54:50.452146Z",
     "start_time": "2021-05-17T16:54:50.380279Z"
    },
    "scrolled": false
   },
   "outputs": [],
   "source": [
    "visualizer.show()"
   ]
  },
  {
   "cell_type": "code",
   "execution_count": null,
   "metadata": {},
   "outputs": [],
   "source": [
    "df['abs[[[X16C+X16D]*[Z11E/X16B]]-[[Z11C+Z11D]+abs[Z11C-Z11D]]]'].values"
   ]
  },
  {
   "cell_type": "code",
   "execution_count": null,
   "metadata": {},
   "outputs": [],
   "source": []
  }
 ],
 "metadata": {
  "kernelspec": {
   "display_name": "Python 3 (ipykernel)",
   "language": "python",
   "name": "python3"
  },
  "language_info": {
   "codemirror_mode": {
    "name": "ipython",
    "version": 3
   },
   "file_extension": ".py",
   "mimetype": "text/x-python",
   "name": "python",
   "nbconvert_exporter": "python",
   "pygments_lexer": "ipython3",
   "version": "3.7.11"
  }
 },
 "nbformat": 4,
 "nbformat_minor": 2
}
