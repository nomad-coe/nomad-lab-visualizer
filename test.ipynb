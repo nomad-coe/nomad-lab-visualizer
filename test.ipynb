{
 "cells": [
  {
   "cell_type": "code",
   "execution_count": 1,
   "metadata": {
    "ExecuteTime": {
     "end_time": "2021-05-03T14:53:16.453025Z",
     "start_time": "2021-05-03T14:53:16.441062Z"
    }
   },
   "outputs": [],
   "source": [
    "%load_ext autoreload\n",
    "%autoreload 2"
   ]
  },
  {
   "cell_type": "code",
   "execution_count": 2,
   "metadata": {
    "ExecuteTime": {
     "end_time": "2021-05-03T14:53:16.754543Z",
     "start_time": "2021-05-03T14:53:16.454491Z"
    }
   },
   "outputs": [],
   "source": [
    "import pandas as pd\n",
    "import numpy as np"
   ]
  },
  {
   "cell_type": "code",
   "execution_count": 3,
   "metadata": {
    "ExecuteTime": {
     "end_time": "2021-05-03T14:53:16.831645Z",
     "start_time": "2021-05-03T14:53:16.756114Z"
    }
   },
   "outputs": [],
   "source": [
    "from visualizer import Visualizer"
   ]
  },
  {
   "cell_type": "code",
   "execution_count": 4,
   "metadata": {
    "ExecuteTime": {
     "end_time": "2021-05-03T14:53:16.915767Z",
     "start_time": "2021-05-03T14:53:16.832993Z"
    }
   },
   "outputs": [],
   "source": [
    "from cpp_sisso import get_max_number_feats, get_estimate_n_feat_next_rung, generate_fs, SISSOClassifier, generate_phi_0_from_csv, FeatureSpace"
   ]
  },
  {
   "cell_type": "code",
   "execution_count": 5,
   "metadata": {
    "ExecuteTime": {
     "end_time": "2021-05-03T14:53:16.948046Z",
     "start_time": "2021-05-03T14:53:16.917162Z"
    }
   },
   "outputs": [],
   "source": [
    "df_train = pd.read_pickle('./data/training_set')"
   ]
  },
  {
   "cell_type": "code",
   "execution_count": 6,
   "metadata": {
    "ExecuteTime": {
     "end_time": "2021-05-03T14:53:19.950078Z",
     "start_time": "2021-05-03T14:53:16.949420Z"
    }
   },
   "outputs": [],
   "source": [
    "# dataset for SISSO - tetradymites tutorial\n",
    "phi_0, prop_unit, prop, prop_test, task_sizes_train, task_sizes_test, leave_out_inds = generate_phi_0_from_csv(\n",
    "df_train, \"Class\", cols='all', task_key=None, leave_out_frac=0.0\n",
    ")\n",
    "feat_space = generate_fs(\n",
    "    phi_0, \n",
    "    prop, \n",
    "    task_sizes_train, \n",
    "    [\"add\", \"sub\", \"mult\", \"div\", \"abs_diff\", \"sq\", \"cb\", \"sqrt\", \"cbrt\", \"inv\", \"abs\"],  \n",
    "    \"classification\",\n",
    "    0, \n",
    "    20\n",
    ")\n",
    "sisso = SISSOClassifier(\n",
    "    feat_space,\n",
    "    prop_unit,\n",
    "    prop,\n",
    "    prop_test,\n",
    "    task_sizes_train,\n",
    "    task_sizes_test,\n",
    "    leave_out_inds,\n",
    "    2,\n",
    "    10,\n",
    "    10\n",
    ")\n",
    "sisso.fit()\n",
    "model = sisso.models[1][0]\n",
    "classified=model.prop_train\n",
    "compounds = df_train.index.to_list()\n",
    "df=pd.DataFrame(data={\n",
    "    \"Compound\":compounds,\n",
    "    \"Classification\":classified})\n",
    "for feat in sisso.models[sisso.n_dim-1][0].feats:\n",
    "    df[str(feat)]=feat.value\n",
    "classes = ['Topological insulators', 'Trivial insulators']\n"
   ]
  },
  {
   "cell_type": "code",
   "execution_count": 7,
   "metadata": {
    "ExecuteTime": {
     "end_time": "2021-05-03T14:53:19.966784Z",
     "start_time": "2021-05-03T14:53:19.954149Z"
    }
   },
   "outputs": [],
   "source": [
    "features = []\n",
    "for feat in sisso.models[sisso.n_dim-1][0].feats:\n",
    "    features.append(feat)"
   ]
  },
  {
   "cell_type": "code",
   "execution_count": 8,
   "metadata": {
    "ExecuteTime": {
     "end_time": "2021-05-03T14:53:19.982460Z",
     "start_time": "2021-05-03T14:53:19.969397Z"
    }
   },
   "outputs": [],
   "source": [
    "df['Classes']=np.where(df['Classification']==0,classes[0],classes[1])"
   ]
  },
  {
   "cell_type": "code",
   "execution_count": 9,
   "metadata": {
    "ExecuteTime": {
     "end_time": "2021-05-03T14:53:19.995883Z",
     "start_time": "2021-05-03T14:53:19.983798Z"
    },
    "scrolled": true
   },
   "outputs": [],
   "source": [
    "df=df.set_index('Compound')"
   ]
  },
  {
   "cell_type": "code",
   "execution_count": 13,
   "metadata": {
    "ExecuteTime": {
     "end_time": "2021-05-03T14:54:14.110628Z",
     "start_time": "2021-05-03T14:54:13.807979Z"
    },
    "scrolled": true
   },
   "outputs": [],
   "source": [
    "visualizer=Visualizer(df, sisso, classes, features)"
   ]
  },
  {
   "cell_type": "code",
   "execution_count": 15,
   "metadata": {
    "ExecuteTime": {
     "end_time": "2021-05-03T14:54:34.068815Z",
     "start_time": "2021-05-03T14:54:33.977486Z"
    }
   },
   "outputs": [
    {
     "data": {
      "application/vnd.jupyter.widget-view+json": {
       "model_id": "22d06eb288d64316a6983c2f5e55e728",
       "version_major": 2,
       "version_minor": 0
      },
      "text/plain": [
       "VBox(children=(HBox(children=(VBox(children=(Dropdown(description='x-axis', options=(abs[[[X16C+X16D]*[Z11E/X1…"
      ]
     },
     "metadata": {},
     "output_type": "display_data"
    }
   ],
   "source": [
    "visualizer.show()"
   ]
  },
  {
   "cell_type": "code",
   "execution_count": null,
   "metadata": {},
   "outputs": [],
   "source": []
  }
 ],
 "metadata": {
  "kernelspec": {
   "display_name": "Python 3",
   "language": "python",
   "name": "python3"
  },
  "language_info": {
   "codemirror_mode": {
    "name": "ipython",
    "version": 3
   },
   "file_extension": ".py",
   "mimetype": "text/x-python",
   "name": "python",
   "nbconvert_exporter": "python",
   "pygments_lexer": "ipython3",
   "version": "3.7.10"
  }
 },
 "nbformat": 4,
 "nbformat_minor": 2
}
