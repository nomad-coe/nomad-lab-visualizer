{
 "cells": [
  {
   "cell_type": "code",
   "execution_count": 2,
   "metadata": {
    "ExecuteTime": {
     "end_time": "2022-09-07T10:29:35.347855Z",
     "start_time": "2022-09-07T10:29:34.234612Z"
    }
   },
   "outputs": [],
   "source": [
    "import pandas as pd\n",
    "from nomad_lab_visualizer import Visualizer"
   ]
  },
  {
   "cell_type": "code",
   "execution_count": 32,
   "metadata": {
    "ExecuteTime": {
     "end_time": "2022-09-07T10:43:24.763817Z",
     "start_time": "2022-09-07T10:43:24.746571Z"
    }
   },
   "outputs": [],
   "source": [
    "df=pd.read_pickle('./data/tetradymites/df')"
   ]
  },
  {
   "cell_type": "code",
   "execution_count": 33,
   "metadata": {
    "ExecuteTime": {
     "end_time": "2022-09-07T10:43:26.349152Z",
     "start_time": "2022-09-07T10:43:26.338176Z"
    }
   },
   "outputs": [],
   "source": [
    "features = ['[[[Z11A+Z11B]*[Z11C+Z11D]]-abs[[Z11A*Z11D]-[Z11B*Z11C]]]', 'abs[[[X16C+X16D]*[Z11E/X16A]]-[[Z11C+Z11D]+abs[Z11C-Z11D]]]']"
   ]
  },
  {
   "cell_type": "code",
   "execution_count": 34,
   "metadata": {
    "ExecuteTime": {
     "end_time": "2022-09-07T10:43:27.311811Z",
     "start_time": "2022-09-07T10:43:27.097060Z"
    },
    "scrolled": true
   },
   "outputs": [],
   "source": [
    "visualizer=Visualizer(df, \n",
    "                      features, \n",
    "                      features,\n",
    "                      convex_hull=True,\n",
    "                      target='Classification')"
   ]
  },
  {
   "cell_type": "code",
   "execution_count": 35,
   "metadata": {
    "ExecuteTime": {
     "end_time": "2022-09-07T10:43:28.384297Z",
     "start_time": "2022-09-07T10:43:28.291687Z"
    },
    "scrolled": false
   },
   "outputs": [
    {
     "data": {
      "application/vnd.jupyter.widget-view+json": {
       "model_id": "cf83c057a916404cb2b86a8309f38319",
       "version_major": 2,
       "version_minor": 0
      },
      "text/plain": [
       "VBox(children=(VBox(children=(HBox(children=(VBox(children=(Dropdown(description='x-axis', layout=Layout(width…"
      ]
     },
     "metadata": {},
     "output_type": "display_data"
    }
   ],
   "source": [
    "visualizer.show()"
   ]
  }
 ],
 "metadata": {
  "kernelspec": {
   "display_name": "Python 3",
   "language": "python",
   "name": "python3"
  },
  "language_info": {
   "codemirror_mode": {
    "name": "ipython",
    "version": 3
   },
   "file_extension": ".py",
   "mimetype": "text/x-python",
   "name": "python",
   "nbconvert_exporter": "python",
   "pygments_lexer": "ipython3",
   "version": "3.7.3"
  }
 },
 "nbformat": 4,
 "nbformat_minor": 2
}
