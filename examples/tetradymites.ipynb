{
 "cells": [
  {
   "cell_type": "code",
   "execution_count": 1,
   "metadata": {
    "ExecuteTime": {
     "end_time": "2022-09-07T10:29:35.347855Z",
     "start_time": "2022-09-07T10:29:34.234612Z"
    }
   },
   "outputs": [],
   "source": [
    "import pandas as pd\n",
    "from nomad_visu import Visualizer\n"
   ]
  },
  {
   "cell_type": "code",
   "execution_count": 2,
   "metadata": {
    "ExecuteTime": {
     "end_time": "2022-09-07T10:43:24.763817Z",
     "start_time": "2022-09-07T10:43:24.746571Z"
    }
   },
   "outputs": [],
   "source": [
    "df = pd.read_pickle(\"./data/tetradymites/df\")\n"
   ]
  },
  {
   "cell_type": "code",
   "execution_count": 3,
   "metadata": {
    "ExecuteTime": {
     "end_time": "2022-09-07T10:43:26.349152Z",
     "start_time": "2022-09-07T10:43:26.338176Z"
    }
   },
   "outputs": [],
   "source": [
    "features = [\n",
    "    \"[[[Z11A+Z11B]*[Z11C+Z11D]]-abs[[Z11A*Z11D]-[Z11B*Z11C]]]\",\n",
    "    \"abs[[[X16C+X16D]*[Z11E/X16A]]-[[Z11C+Z11D]+abs[Z11C-Z11D]]]\",\n",
    "]\n"
   ]
  },
  {
   "cell_type": "code",
   "execution_count": 4,
   "metadata": {
    "ExecuteTime": {
     "end_time": "2022-09-07T10:43:27.311811Z",
     "start_time": "2022-09-07T10:43:27.097060Z"
    },
    "scrolled": true
   },
   "outputs": [],
   "source": [
    "visualizer = Visualizer(\n",
    "    df, features, features, target=\"Classification\"\n",
    ")\n"
   ]
  },
  {
   "cell_type": "code",
   "execution_count": null,
   "metadata": {
    "ExecuteTime": {
     "end_time": "2022-09-07T10:43:28.384297Z",
     "start_time": "2022-09-07T10:43:28.291687Z"
    },
    "scrolled": false
   },
   "outputs": [],
   "source": [
    "visualizer.show()\n"
   ]
  }
 ],
 "metadata": {
  "kernelspec": {
   "display_name": "Python 3 (ipykernel)",
   "language": "python",
   "name": "python3"
  },
  "language_info": {
   "codemirror_mode": {
    "name": "ipython",
    "version": 3
   },
   "file_extension": ".py",
   "mimetype": "text/x-python",
   "name": "python",
   "nbconvert_exporter": "python",
   "pygments_lexer": "ipython3",
   "version": "3.10.6"
  },
  "vscode": {
   "interpreter": {
    "hash": "167aa5bbf7d087246cb59b919d53bb10bd139402a1d5a932a7cbff3c8a777b14"
   }
  }
 },
 "nbformat": 4,
 "nbformat_minor": 2
}
