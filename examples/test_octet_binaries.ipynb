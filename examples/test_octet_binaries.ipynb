{
 "cells": [
  {
   "cell_type": "code",
   "execution_count": null,
   "id": "60604c48",
   "metadata": {
    "ExecuteTime": {
     "end_time": "2022-09-07T10:15:52.168098Z",
     "start_time": "2022-09-07T10:15:52.158560Z"
    }
   },
   "outputs": [],
   "source": [
    "# %load_ext autoreload\n",
    "# %autoreload 2"
   ]
  },
  {
   "cell_type": "code",
   "execution_count": null,
   "id": "6c82d7bc",
   "metadata": {
    "ExecuteTime": {
     "end_time": "2022-09-07T10:15:52.885896Z",
     "start_time": "2022-09-07T10:15:52.169988Z"
    }
   },
   "outputs": [],
   "source": [
    "import pandas as pd\n",
    "from visualizer import Visualizer"
   ]
  },
  {
   "cell_type": "code",
   "execution_count": null,
   "id": "33b66975",
   "metadata": {
    "ExecuteTime": {
     "end_time": "2022-09-07T10:15:52.898158Z",
     "start_time": "2022-09-07T10:15:52.887440Z"
    }
   },
   "outputs": [],
   "source": [
    "df=pd.read_pickle('data/octet_binaries/df')"
   ]
  },
  {
   "cell_type": "code",
   "execution_count": null,
   "id": "add8539b",
   "metadata": {
    "ExecuteTime": {
     "end_time": "2022-09-07T10:15:52.910424Z",
     "start_time": "2022-09-07T10:15:52.899807Z"
    }
   },
   "outputs": [],
   "source": [
    "regr_line_coefs = [0.11425013108281612, -1.48249992475763]\n",
    "intercept = -0.1447151781886926"
   ]
  },
  {
   "cell_type": "code",
   "execution_count": null,
   "id": "f3c309f5",
   "metadata": {
    "ExecuteTime": {
     "end_time": "2022-09-07T10:15:52.922772Z",
     "start_time": "2022-09-07T10:15:52.911837Z"
    }
   },
   "outputs": [],
   "source": [
    "features = ['((|IP_B  - EA_B |) / (r_p_A^2))', '((|r_s_A - r_p_B|) / exp(r_s_A))']"
   ]
  },
  {
   "cell_type": "code",
   "execution_count": null,
   "id": "fbb2542b",
   "metadata": {
    "ExecuteTime": {
     "end_time": "2022-09-07T10:15:53.358085Z",
     "start_time": "2022-09-07T10:15:52.924098Z"
    },
    "scrolled": true
   },
   "outputs": [],
   "source": [
    "visualizer=Visualizer(df, features, features, \n",
    "                      target='Classification', \n",
    "                      path_to_structures='./data/octet_binaries/structures',\n",
    "                      regr_line_coefs=[regr_line_coefs,intercept],\n",
    "                      smart_fract=True,\n",
    "                      convex_hull=True)"
   ]
  },
  {
   "cell_type": "code",
   "execution_count": null,
   "id": "4ab89448",
   "metadata": {
    "ExecuteTime": {
     "end_time": "2022-09-07T10:15:53.507021Z",
     "start_time": "2022-09-07T10:15:53.360324Z"
    },
    "scrolled": false
   },
   "outputs": [],
   "source": [
    "visualizer.show()"
   ]
  }
 ],
 "metadata": {
  "kernelspec": {
   "display_name": "Python 3 (ipykernel)",
   "language": "python",
   "name": "python3"
  },
  "language_info": {
   "codemirror_mode": {
    "name": "ipython",
    "version": 3
   },
   "file_extension": ".py",
   "mimetype": "text/x-python",
   "name": "python",
   "nbconvert_exporter": "python",
   "pygments_lexer": "ipython3",
   "version": "3.8.9"
  },
  "vscode": {
   "interpreter": {
    "hash": "31f2aee4e71d21fbe5cf8b01ff0e069b9275f58929596ceb00d14d90e3e16cd6"
   }
  }
 },
 "nbformat": 4,
 "nbformat_minor": 5
}
