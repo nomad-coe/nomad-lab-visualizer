{
 "cells": [
  {
   "cell_type": "markdown",
   "metadata": {},
   "source": [
    "# Alternative 3D molecule viewers\n",
    "\n",
    "Problem with jupyter_jsmol:\n",
    "- needs a JS expert to fix compability of newer version of jupyter notebooks/labs\n",
    "- single person project (nobody has time to maintain)"
   ]
  },
  {
   "cell_type": "markdown",
   "metadata": {},
   "source": [
    "# py3Dmol\n",
    "\n",
    "\n",
    "homeage: https://3dmol.csb.pitt.edu/\n",
    "\n",
    "The python methods are the same JS API: http://3dmol.csb.pitt.edu/doc/$3Dmol.GLViewer.html\n",
    "\n",
    "Pros:\n",
    "- simple and small package\n",
    "\n",
    "Cons:\n",
    "- not a proper ipywidget (uses \"hack\" to loads the js)"
   ]
  },
  {
   "cell_type": "code",
   "execution_count": null,
   "metadata": {},
   "outputs": [],
   "source": [
    "import IPython\n",
    "import py3Dmol\n",
    "import ipywidgets as widgets"
   ]
  },
  {
   "cell_type": "code",
   "execution_count": null,
   "metadata": {},
   "outputs": [],
   "source": [
    "filename = \"data/query_archive/structures/AsBiO3/AsBiO3_3101.xyz\"\n",
    "filename = \"data/query_archive/structures/Ac2O8Zn4/Ac2O8Zn4_5484.xyz\"\n",
    "\n",
    "with open(filename, 'r') as file:\n",
    "    xyz = file.read()"
   ]
  },
  {
   "cell_type": "code",
   "execution_count": null,
   "metadata": {
    "scrolled": false
   },
   "outputs": [],
   "source": [
    "view = py3Dmol.view(width='auto',height=400)\n",
    "view.addModel(xyz, 'xyz')\n",
    "view.setStyle({'stick':{'colorscheme':'Jmol'}, 'sphere':{'radius': .5, 'colorscheme':'Jmol'}})\n",
    "view.setBackgroundColor('0xeeeeee')\n",
    "view.setProjection('orthographic')\n",
    "# view.removeAllModels()\n",
    "\n",
    "# view.addUnitCell()\n",
    "# view.replicateUnitCell(3);\n",
    "\n",
    "view.zoomTo()\n",
    "view.show()\n",
    "\n",
    "# view.translate(50,-50);\n",
    "view.zoom(2.5);\n",
    "view.update()"
   ]
  },
  {
   "cell_type": "markdown",
   "metadata": {},
   "source": [
    "Works inside an `Output` widget:"
   ]
  },
  {
   "cell_type": "code",
   "execution_count": null,
   "metadata": {},
   "outputs": [],
   "source": [
    "w = widgets.Output()\n",
    "w"
   ]
  },
  {
   "cell_type": "code",
   "execution_count": null,
   "metadata": {},
   "outputs": [],
   "source": [
    "with w:\n",
    "    view.show()"
   ]
  },
  {
   "cell_type": "code",
   "execution_count": null,
   "metadata": {},
   "outputs": [],
   "source": [
    "view.zoomTo()\n",
    "view.translate(150,-50);\n",
    "# view.center()\n",
    "view.update()"
   ]
  },
  {
   "cell_type": "markdown",
   "metadata": {},
   "source": [
    "Also woks by using the `display` method:"
   ]
  },
  {
   "cell_type": "code",
   "execution_count": null,
   "metadata": {},
   "outputs": [],
   "source": [
    "html = view._make_html()\n",
    "IPython.display.publish_display_data({'application/3dmoljs_load.v0':html, 'text/html': html},metadata={})"
   ]
  },
  {
   "cell_type": "markdown",
   "metadata": {},
   "source": [
    "# NGLview\n",
    "\n",
    "homegpage: http://nglviewer.org/nglview/latest/\n",
    "\n",
    "Pros:\n",
    "- well maintained (full of features)\n",
    "- uses the \"standard\" `three.js`\n",
    "- it is already a widget\n",
    "\n",
    "Cons:\n",
    "- python api is not very well documented\n",
    "- doesn't support xyz file format\n",
    "- quite heavy\n"
   ]
  },
  {
   "cell_type": "code",
   "execution_count": null,
   "metadata": {},
   "outputs": [],
   "source": [
    "import ase.io\n",
    "import nglview\n",
    "import ipywidgets as widgets"
   ]
  },
  {
   "cell_type": "code",
   "execution_count": null,
   "metadata": {},
   "outputs": [],
   "source": []
  },
  {
   "cell_type": "code",
   "execution_count": null,
   "metadata": {},
   "outputs": [],
   "source": [
    "view = nglview.show_pdbid(\"3pqr\")  # load \"3pqr\" from RCSB PDB and display viewer widget\n",
    "view"
   ]
  },
  {
   "cell_type": "code",
   "execution_count": null,
   "metadata": {},
   "outputs": [],
   "source": [
    "filename = \"data/query_archive/structures/AsBiO3/AsBiO3_3101.xyz\"\n",
    "filename = \"data/query_archive/structures/Ac2O8Zn4/Ac2O8Zn4_5484.xyz\"\n",
    "\n",
    "atoms = ase.io.read(filename)"
   ]
  },
  {
   "cell_type": "code",
   "execution_count": null,
   "metadata": {
    "scrolled": false
   },
   "outputs": [],
   "source": [
    "nglview.show_ase(atoms)"
   ]
  },
  {
   "cell_type": "markdown",
   "metadata": {},
   "source": [
    "The `NGLWidget` object is already an ipywidget:"
   ]
  },
  {
   "cell_type": "code",
   "execution_count": null,
   "metadata": {},
   "outputs": [],
   "source": [
    "view = nglview.NGLWidget()\n",
    "\n",
    "structure = nglview.ASEStructure(atoms)\n",
    "view.add_structure(structure)\n",
    "\n",
    "view\n"
   ]
  },
  {
   "cell_type": "code",
   "execution_count": null,
   "metadata": {},
   "outputs": [],
   "source": [
    "nglview.NGLWidget.__mro__"
   ]
  },
  {
   "cell_type": "code",
   "execution_count": null,
   "metadata": {},
   "outputs": [],
   "source": []
  }
 ],
 "metadata": {
  "kernelspec": {
   "display_name": "Python 3 (ipykernel)",
   "language": "python",
   "name": "python3"
  },
  "language_info": {
   "codemirror_mode": {
    "name": "ipython",
    "version": 3
   },
   "file_extension": ".py",
   "mimetype": "text/x-python",
   "name": "python",
   "nbconvert_exporter": "python",
   "pygments_lexer": "ipython3",
   "version": "3.10.6"
  },
  "vscode": {
   "interpreter": {
    "hash": "167aa5bbf7d087246cb59b919d53bb10bd139402a1d5a932a7cbff3c8a777b14"
   }
  }
 },
 "nbformat": 4,
 "nbformat_minor": 2
}
