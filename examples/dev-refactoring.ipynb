{
 "cells": [
  {
   "cell_type": "markdown",
   "metadata": {},
   "source": [
    "## Refactoring: Pythonic way"
   ]
  },
  {
   "cell_type": "markdown",
   "metadata": {},
   "source": [
    "Original application:\n"
   ]
  },
  {
   "cell_type": "code",
   "execution_count": 1,
   "metadata": {},
   "outputs": [],
   "source": [
    "import pandas as pd\n",
    "from nomad_lab_visualizer import Visualizer\n"
   ]
  },
  {
   "cell_type": "code",
   "execution_count": 2,
   "metadata": {},
   "outputs": [
    {
     "data": {
      "text/html": [
       "<div>\n",
       "<style scoped>\n",
       "    .dataframe tbody tr th:only-of-type {\n",
       "        vertical-align: middle;\n",
       "    }\n",
       "\n",
       "    .dataframe tbody tr th {\n",
       "        vertical-align: top;\n",
       "    }\n",
       "\n",
       "    .dataframe thead th {\n",
       "        text-align: right;\n",
       "    }\n",
       "</style>\n",
       "<table border=\"1\" class=\"dataframe\">\n",
       "  <thead>\n",
       "    <tr style=\"text-align: right;\">\n",
       "      <th></th>\n",
       "      <th>x_emb</th>\n",
       "      <th>y_emb</th>\n",
       "      <th>Atomic_number_A</th>\n",
       "      <th>Atomic_number_B</th>\n",
       "      <th>Space_group_number</th>\n",
       "      <th>Atomic_density</th>\n",
       "      <th>Cluster_label</th>\n",
       "      <th>Structure</th>\n",
       "      <th>File</th>\n",
       "      <th>Replicas</th>\n",
       "    </tr>\n",
       "    <tr>\n",
       "      <th>Formula</th>\n",
       "      <th></th>\n",
       "      <th></th>\n",
       "      <th></th>\n",
       "      <th></th>\n",
       "      <th></th>\n",
       "      <th></th>\n",
       "      <th></th>\n",
       "      <th></th>\n",
       "      <th></th>\n",
       "      <th></th>\n",
       "    </tr>\n",
       "  </thead>\n",
       "  <tbody>\n",
       "    <tr>\n",
       "      <th>Ac2Ag4O8</th>\n",
       "      <td>39.728947</td>\n",
       "      <td>30.926718</td>\n",
       "      <td>47.0</td>\n",
       "      <td>89.0</td>\n",
       "      <td>227.0</td>\n",
       "      <td>0.062730</td>\n",
       "      <td>0</td>\n",
       "      <td>./data/query_archive/structures/Ac2Ag4O8</td>\n",
       "      <td>[Ac2Ag4O8_6819.xyz]</td>\n",
       "      <td>1</td>\n",
       "    </tr>\n",
       "    <tr>\n",
       "      <th>Ac2As4O8</th>\n",
       "      <td>46.165726</td>\n",
       "      <td>27.248566</td>\n",
       "      <td>33.0</td>\n",
       "      <td>89.0</td>\n",
       "      <td>227.0</td>\n",
       "      <td>0.062067</td>\n",
       "      <td>-1</td>\n",
       "      <td>./data/query_archive/structures/Ac2As4O8</td>\n",
       "      <td>[Ac2As4O8_319.xyz]</td>\n",
       "      <td>1</td>\n",
       "    </tr>\n",
       "    <tr>\n",
       "      <th>Ac2B4O8</th>\n",
       "      <td>58.595741</td>\n",
       "      <td>24.383308</td>\n",
       "      <td>5.0</td>\n",
       "      <td>89.0</td>\n",
       "      <td>227.0</td>\n",
       "      <td>0.092081</td>\n",
       "      <td>0</td>\n",
       "      <td>./data/query_archive/structures/Ac2B4O8</td>\n",
       "      <td>[Ac2B4O8_6978.xyz]</td>\n",
       "      <td>1</td>\n",
       "    </tr>\n",
       "    <tr>\n",
       "      <th>Ac2Be4O8</th>\n",
       "      <td>60.653465</td>\n",
       "      <td>24.399380</td>\n",
       "      <td>4.0</td>\n",
       "      <td>89.0</td>\n",
       "      <td>227.0</td>\n",
       "      <td>0.090679</td>\n",
       "      <td>0</td>\n",
       "      <td>./data/query_archive/structures/Ac2Be4O8</td>\n",
       "      <td>[Ac2Be4O8_121.xyz]</td>\n",
       "      <td>1</td>\n",
       "    </tr>\n",
       "    <tr>\n",
       "      <th>Ac2Ca4O8</th>\n",
       "      <td>62.921474</td>\n",
       "      <td>23.055676</td>\n",
       "      <td>20.0</td>\n",
       "      <td>89.0</td>\n",
       "      <td>227.0</td>\n",
       "      <td>0.058643</td>\n",
       "      <td>0</td>\n",
       "      <td>./data/query_archive/structures/Ac2Ca4O8</td>\n",
       "      <td>[Ac2Ca4O8_4736.xyz]</td>\n",
       "      <td>1</td>\n",
       "    </tr>\n",
       "    <tr>\n",
       "      <th>...</th>\n",
       "      <td>...</td>\n",
       "      <td>...</td>\n",
       "      <td>...</td>\n",
       "      <td>...</td>\n",
       "      <td>...</td>\n",
       "      <td>...</td>\n",
       "      <td>...</td>\n",
       "      <td>...</td>\n",
       "      <td>...</td>\n",
       "      <td>...</td>\n",
       "    </tr>\n",
       "    <tr>\n",
       "      <th>Zn2Cr4O8</th>\n",
       "      <td>5.035081</td>\n",
       "      <td>26.554813</td>\n",
       "      <td>24.0</td>\n",
       "      <td>30.0</td>\n",
       "      <td>227.0</td>\n",
       "      <td>0.091459</td>\n",
       "      <td>-1</td>\n",
       "      <td>./data/query_archive/structures/Zn2Cr4O8</td>\n",
       "      <td>[Zn2Cr4O8_7411.xyz]</td>\n",
       "      <td>1</td>\n",
       "    </tr>\n",
       "    <tr>\n",
       "      <th>Zn2Fe4O8</th>\n",
       "      <td>5.321269</td>\n",
       "      <td>26.232611</td>\n",
       "      <td>26.0</td>\n",
       "      <td>30.0</td>\n",
       "      <td>227.0</td>\n",
       "      <td>0.089538</td>\n",
       "      <td>-1</td>\n",
       "      <td>./data/query_archive/structures/Zn2Fe4O8</td>\n",
       "      <td>[Zn2Fe4O8_5784.xyz]</td>\n",
       "      <td>1</td>\n",
       "    </tr>\n",
       "    <tr>\n",
       "      <th>Zn2Ir4O8</th>\n",
       "      <td>-2.570099</td>\n",
       "      <td>-27.888716</td>\n",
       "      <td>30.0</td>\n",
       "      <td>77.0</td>\n",
       "      <td>227.0</td>\n",
       "      <td>0.083793</td>\n",
       "      <td>-1</td>\n",
       "      <td>./data/query_archive/structures/Zn2Ir4O8</td>\n",
       "      <td>[Zn2Ir4O8_1811.xyz]</td>\n",
       "      <td>1</td>\n",
       "    </tr>\n",
       "    <tr>\n",
       "      <th>ZnCuO3</th>\n",
       "      <td>0.301460</td>\n",
       "      <td>11.128940</td>\n",
       "      <td>29.0</td>\n",
       "      <td>30.0</td>\n",
       "      <td>221.0</td>\n",
       "      <td>0.095951</td>\n",
       "      <td>1</td>\n",
       "      <td>./data/query_archive/structures/ZnCuO3</td>\n",
       "      <td>[ZnCuO3_2842.xyz]</td>\n",
       "      <td>1</td>\n",
       "    </tr>\n",
       "    <tr>\n",
       "      <th>ZrPbO3</th>\n",
       "      <td>-21.374252</td>\n",
       "      <td>-47.389404</td>\n",
       "      <td>40.0</td>\n",
       "      <td>82.0</td>\n",
       "      <td>221.0</td>\n",
       "      <td>0.067059</td>\n",
       "      <td>1</td>\n",
       "      <td>./data/query_archive/structures/ZrPbO3</td>\n",
       "      <td>[ZrPbO3_6980.xyz, ZrPbO3_4607.xyz, ZrPbO3_7106...</td>\n",
       "      <td>6</td>\n",
       "    </tr>\n",
       "  </tbody>\n",
       "</table>\n",
       "<p>4263 rows × 10 columns</p>\n",
       "</div>"
      ],
      "text/plain": [
       "              x_emb      y_emb  Atomic_number_A  Atomic_number_B  \\\n",
       "Formula                                                            \n",
       "Ac2Ag4O8  39.728947  30.926718             47.0             89.0   \n",
       "Ac2As4O8  46.165726  27.248566             33.0             89.0   \n",
       "Ac2B4O8   58.595741  24.383308              5.0             89.0   \n",
       "Ac2Be4O8  60.653465  24.399380              4.0             89.0   \n",
       "Ac2Ca4O8  62.921474  23.055676             20.0             89.0   \n",
       "...             ...        ...              ...              ...   \n",
       "Zn2Cr4O8   5.035081  26.554813             24.0             30.0   \n",
       "Zn2Fe4O8   5.321269  26.232611             26.0             30.0   \n",
       "Zn2Ir4O8  -2.570099 -27.888716             30.0             77.0   \n",
       "ZnCuO3     0.301460  11.128940             29.0             30.0   \n",
       "ZrPbO3   -21.374252 -47.389404             40.0             82.0   \n",
       "\n",
       "          Space_group_number  Atomic_density  Cluster_label  \\\n",
       "Formula                                                       \n",
       "Ac2Ag4O8               227.0        0.062730              0   \n",
       "Ac2As4O8               227.0        0.062067             -1   \n",
       "Ac2B4O8                227.0        0.092081              0   \n",
       "Ac2Be4O8               227.0        0.090679              0   \n",
       "Ac2Ca4O8               227.0        0.058643              0   \n",
       "...                      ...             ...            ...   \n",
       "Zn2Cr4O8               227.0        0.091459             -1   \n",
       "Zn2Fe4O8               227.0        0.089538             -1   \n",
       "Zn2Ir4O8               227.0        0.083793             -1   \n",
       "ZnCuO3                 221.0        0.095951              1   \n",
       "ZrPbO3                 221.0        0.067059              1   \n",
       "\n",
       "                                         Structure  \\\n",
       "Formula                                              \n",
       "Ac2Ag4O8  ./data/query_archive/structures/Ac2Ag4O8   \n",
       "Ac2As4O8  ./data/query_archive/structures/Ac2As4O8   \n",
       "Ac2B4O8    ./data/query_archive/structures/Ac2B4O8   \n",
       "Ac2Be4O8  ./data/query_archive/structures/Ac2Be4O8   \n",
       "Ac2Ca4O8  ./data/query_archive/structures/Ac2Ca4O8   \n",
       "...                                            ...   \n",
       "Zn2Cr4O8  ./data/query_archive/structures/Zn2Cr4O8   \n",
       "Zn2Fe4O8  ./data/query_archive/structures/Zn2Fe4O8   \n",
       "Zn2Ir4O8  ./data/query_archive/structures/Zn2Ir4O8   \n",
       "ZnCuO3      ./data/query_archive/structures/ZnCuO3   \n",
       "ZrPbO3      ./data/query_archive/structures/ZrPbO3   \n",
       "\n",
       "                                                       File  Replicas  \n",
       "Formula                                                                \n",
       "Ac2Ag4O8                                [Ac2Ag4O8_6819.xyz]         1  \n",
       "Ac2As4O8                                 [Ac2As4O8_319.xyz]         1  \n",
       "Ac2B4O8                                  [Ac2B4O8_6978.xyz]         1  \n",
       "Ac2Be4O8                                 [Ac2Be4O8_121.xyz]         1  \n",
       "Ac2Ca4O8                                [Ac2Ca4O8_4736.xyz]         1  \n",
       "...                                                     ...       ...  \n",
       "Zn2Cr4O8                                [Zn2Cr4O8_7411.xyz]         1  \n",
       "Zn2Fe4O8                                [Zn2Fe4O8_5784.xyz]         1  \n",
       "Zn2Ir4O8                                [Zn2Ir4O8_1811.xyz]         1  \n",
       "ZnCuO3                                    [ZnCuO3_2842.xyz]         1  \n",
       "ZrPbO3    [ZrPbO3_6980.xyz, ZrPbO3_4607.xyz, ZrPbO3_7106...         6  \n",
       "\n",
       "[4263 rows x 10 columns]"
      ]
     },
     "execution_count": 2,
     "metadata": {},
     "output_type": "execute_result"
    }
   ],
   "source": [
    "df = pd.read_pickle(\"./data/query_archive/df\")\n",
    "df\n"
   ]
  },
  {
   "cell_type": "code",
   "execution_count": 3,
   "metadata": {},
   "outputs": [
    {
     "data": {
      "application/vnd.jupyter.widget-view+json": {
       "model_id": "6a96b6b3ec40478fb5eaf794da19ee85",
       "version_major": 2,
       "version_minor": 0
      },
      "text/plain": [
       "VBox(children=(VBox(children=(HBox(children=(VBox(children=(Dropdown(description='x-axis', layout=Layout(width…"
      ]
     },
     "metadata": {},
     "output_type": "display_data"
    }
   ],
   "source": [
    "visualizer = Visualizer(\n",
    "    df,\n",
    "    embedding_features=[\"x_emb\", \"y_emb\", \"Atomic_number_A\", \"Atomic_number_B\"],\n",
    "    hover_features=[\n",
    "        \"Atomic_number_A\",\n",
    "        \"Atomic_number_B\",\n",
    "        \"Space_group_number\",\n",
    "        \"Atomic_density\",\n",
    "        \"Cluster_label\",\n",
    "        \"Replicas\",\n",
    "    ],\n",
    "    target=\"Cluster_label\",\n",
    "    path_to_structures=True,\n",
    "    smart_fract=False,\n",
    "    convex_hull=False,\n",
    "    #     regr_line_coefs=[0., 1.]\n",
    ")\n",
    "\n",
    "visualizer.show()\n"
   ]
  },
  {
   "cell_type": "markdown",
   "metadata": {},
   "source": [
    "Strting to refactor:\n"
   ]
  },
  {
   "cell_type": "code",
   "execution_count": 4,
   "metadata": {},
   "outputs": [],
   "source": [
    "import os\n",
    "\n",
    "import numpy as np\n",
    "import pandas as pd\n",
    "\n",
    "import matplotlib.pyplot as plt\n",
    "\n",
    "import ipywidgets as widgets\n",
    "import plotly.graph_objects as go\n",
    "import plotly.express as px\n",
    "\n",
    "from IPython.display import display, Markdown, FileLink\n",
    "\n",
    "from itertools import cycle\n",
    "\n",
    "from nomad_lab_visualizer.updates import (\n",
    "    marker_style_updates,\n",
    "    fract_change_updates,\n",
    "    update_hover_variables,\n",
    ")\n",
    "\n",
    "from nomad_lab_visualizer.view_structure import view_structure_r, view_structure_l\n",
    "from nomad_lab_visualizer.smart_fract import smart_fract_make\n",
    "from nomad_lab_visualizer.instantiate_widgets import instantiate_widgets\n",
    "from nomad_lab_visualizer.batch_update import batch_update\n",
    "\n",
    "\n",
    "# TODO:\n",
    "# - [ ] gui optino for target\n",
    "# - [ ] switch on and off the convex hull\n",
    "# - [ ] smart_fract as an preprocess\n",
    "# - [ ] moving options out\n",
    "#\n",
    "# python api is same as: http://3dmol.csb.pitt.edu/doc/$3Dmol.GLViewer.html#toc0\n"
   ]
  },
  {
   "cell_type": "code",
   "execution_count": 61,
   "metadata": {},
   "outputs": [
    {
     "data": {
      "text/html": [
       "<div>\n",
       "<style scoped>\n",
       "    .dataframe tbody tr th:only-of-type {\n",
       "        vertical-align: middle;\n",
       "    }\n",
       "\n",
       "    .dataframe tbody tr th {\n",
       "        vertical-align: top;\n",
       "    }\n",
       "\n",
       "    .dataframe thead th {\n",
       "        text-align: right;\n",
       "    }\n",
       "</style>\n",
       "<table border=\"1\" class=\"dataframe\">\n",
       "  <thead>\n",
       "    <tr style=\"text-align: right;\">\n",
       "      <th></th>\n",
       "      <th>A</th>\n",
       "      <th>B</th>\n",
       "      <th>C</th>\n",
       "      <th>D</th>\n",
       "      <th>E</th>\n",
       "      <th>F</th>\n",
       "    </tr>\n",
       "  </thead>\n",
       "  <tbody>\n",
       "    <tr>\n",
       "      <th>0</th>\n",
       "      <td>-0.287319</td>\n",
       "      <td>-0.996540</td>\n",
       "      <td>-1.203591</td>\n",
       "      <td>-0.337469</td>\n",
       "      <td>0</td>\n",
       "      <td>-1</td>\n",
       "    </tr>\n",
       "    <tr>\n",
       "      <th>1</th>\n",
       "      <td>-2.540634</td>\n",
       "      <td>-0.334815</td>\n",
       "      <td>0.150543</td>\n",
       "      <td>1.473180</td>\n",
       "      <td>7</td>\n",
       "      <td>1</td>\n",
       "    </tr>\n",
       "    <tr>\n",
       "      <th>2</th>\n",
       "      <td>0.821525</td>\n",
       "      <td>-0.579491</td>\n",
       "      <td>-1.925279</td>\n",
       "      <td>-1.296644</td>\n",
       "      <td>1</td>\n",
       "      <td>-1</td>\n",
       "    </tr>\n",
       "    <tr>\n",
       "      <th>3</th>\n",
       "      <td>0.800383</td>\n",
       "      <td>-0.893136</td>\n",
       "      <td>-0.641342</td>\n",
       "      <td>-0.197291</td>\n",
       "      <td>4</td>\n",
       "      <td>-1</td>\n",
       "    </tr>\n",
       "    <tr>\n",
       "      <th>4</th>\n",
       "      <td>-1.336998</td>\n",
       "      <td>0.285731</td>\n",
       "      <td>0.575695</td>\n",
       "      <td>-0.201369</td>\n",
       "      <td>7</td>\n",
       "      <td>0</td>\n",
       "    </tr>\n",
       "    <tr>\n",
       "      <th>5</th>\n",
       "      <td>-0.330901</td>\n",
       "      <td>0.718104</td>\n",
       "      <td>0.562255</td>\n",
       "      <td>0.953785</td>\n",
       "      <td>4</td>\n",
       "      <td>0</td>\n",
       "    </tr>\n",
       "    <tr>\n",
       "      <th>6</th>\n",
       "      <td>-1.037380</td>\n",
       "      <td>-0.652701</td>\n",
       "      <td>2.280855</td>\n",
       "      <td>1.692344</td>\n",
       "      <td>0</td>\n",
       "      <td>-1</td>\n",
       "    </tr>\n",
       "    <tr>\n",
       "      <th>7</th>\n",
       "      <td>-0.208266</td>\n",
       "      <td>-0.783505</td>\n",
       "      <td>1.674454</td>\n",
       "      <td>0.162349</td>\n",
       "      <td>5</td>\n",
       "      <td>1</td>\n",
       "    </tr>\n",
       "    <tr>\n",
       "      <th>8</th>\n",
       "      <td>0.338125</td>\n",
       "      <td>-1.026481</td>\n",
       "      <td>0.167935</td>\n",
       "      <td>1.112484</td>\n",
       "      <td>3</td>\n",
       "      <td>0</td>\n",
       "    </tr>\n",
       "    <tr>\n",
       "      <th>9</th>\n",
       "      <td>-0.820795</td>\n",
       "      <td>0.115481</td>\n",
       "      <td>0.244547</td>\n",
       "      <td>0.809821</td>\n",
       "      <td>4</td>\n",
       "      <td>-1</td>\n",
       "    </tr>\n",
       "  </tbody>\n",
       "</table>\n",
       "</div>"
      ],
      "text/plain": [
       "          A         B         C         D  E  F\n",
       "0 -0.287319 -0.996540 -1.203591 -0.337469  0 -1\n",
       "1 -2.540634 -0.334815  0.150543  1.473180  7  1\n",
       "2  0.821525 -0.579491 -1.925279 -1.296644  1 -1\n",
       "3  0.800383 -0.893136 -0.641342 -0.197291  4 -1\n",
       "4 -1.336998  0.285731  0.575695 -0.201369  7  0\n",
       "5 -0.330901  0.718104  0.562255  0.953785  4  0\n",
       "6 -1.037380 -0.652701  2.280855  1.692344  0 -1\n",
       "7 -0.208266 -0.783505  1.674454  0.162349  5  1\n",
       "8  0.338125 -1.026481  0.167935  1.112484  3  0\n",
       "9 -0.820795  0.115481  0.244547  0.809821  4 -1"
      ]
     },
     "execution_count": 61,
     "metadata": {},
     "output_type": "execute_result"
    }
   ],
   "source": [
    "# Generate data\n",
    "\n",
    "N = 10\n",
    "\n",
    "df = pd.DataFrame(np.random.randn(N, 4), columns=list(\"ABCD\"))\n",
    "df[\"E\"] = pd.Series(np.random.randint(0, 10, size=N), dtype=\"category\")\n",
    "df[\"F\"] = pd.Series(np.random.randint(-1, 2, size=N), dtype=\"category\")\n",
    "df\n",
    "# df.dtypes\n"
   ]
  },
  {
   "cell_type": "code",
   "execution_count": 69,
   "metadata": {},
   "outputs": [
    {
     "data": {
      "text/plain": [
       "{-1:           A         B         C         D  E  F\n",
       " 0 -0.287319 -0.996540 -1.203591 -0.337469  0 -1\n",
       " 2  0.821525 -0.579491 -1.925279 -1.296644  1 -1\n",
       " 3  0.800383 -0.893136 -0.641342 -0.197291  4 -1\n",
       " 6 -1.037380 -0.652701  2.280855  1.692344  0 -1\n",
       " 9 -0.820795  0.115481  0.244547  0.809821  4 -1,\n",
       " 0:           A         B         C         D  E  F\n",
       " 4 -1.336998  0.285731  0.575695 -0.201369  7  0\n",
       " 5 -0.330901  0.718104  0.562255  0.953785  4  0\n",
       " 8  0.338125 -1.026481  0.167935  1.112484  3  0,\n",
       " 1:           A         B         C         D  E  F\n",
       " 1 -2.540634 -0.334815  0.150543  1.473180  7  1\n",
       " 7 -0.208266 -0.783505  1.674454  0.162349  5  1}"
      ]
     },
     "execution_count": 69,
     "metadata": {},
     "output_type": "execute_result"
    }
   ],
   "source": [
    "{k:v for k, v in df.groupby('F')}\n"
   ]
  },
  {
   "cell_type": "code",
   "execution_count": 70,
   "metadata": {},
   "outputs": [
    {
     "data": {
      "text/html": [
       "<div>\n",
       "<style scoped>\n",
       "    .dataframe tbody tr th:only-of-type {\n",
       "        vertical-align: middle;\n",
       "    }\n",
       "\n",
       "    .dataframe tbody tr th {\n",
       "        vertical-align: top;\n",
       "    }\n",
       "\n",
       "    .dataframe thead th {\n",
       "        text-align: right;\n",
       "    }\n",
       "</style>\n",
       "<table border=\"1\" class=\"dataframe\">\n",
       "  <thead>\n",
       "    <tr style=\"text-align: right;\">\n",
       "      <th></th>\n",
       "      <th>A</th>\n",
       "      <th>B</th>\n",
       "      <th>C</th>\n",
       "      <th>D</th>\n",
       "      <th>E</th>\n",
       "      <th>F</th>\n",
       "    </tr>\n",
       "  </thead>\n",
       "  <tbody>\n",
       "    <tr>\n",
       "      <th>0</th>\n",
       "      <td>-0.287319</td>\n",
       "      <td>-0.996540</td>\n",
       "      <td>-1.203591</td>\n",
       "      <td>-0.337469</td>\n",
       "      <td>0</td>\n",
       "      <td>-1</td>\n",
       "    </tr>\n",
       "    <tr>\n",
       "      <th>1</th>\n",
       "      <td>-2.540634</td>\n",
       "      <td>-0.334815</td>\n",
       "      <td>0.150543</td>\n",
       "      <td>1.473180</td>\n",
       "      <td>7</td>\n",
       "      <td>1</td>\n",
       "    </tr>\n",
       "    <tr>\n",
       "      <th>2</th>\n",
       "      <td>0.821525</td>\n",
       "      <td>-0.579491</td>\n",
       "      <td>-1.925279</td>\n",
       "      <td>-1.296644</td>\n",
       "      <td>1</td>\n",
       "      <td>-1</td>\n",
       "    </tr>\n",
       "    <tr>\n",
       "      <th>3</th>\n",
       "      <td>0.800383</td>\n",
       "      <td>-0.893136</td>\n",
       "      <td>-0.641342</td>\n",
       "      <td>-0.197291</td>\n",
       "      <td>4</td>\n",
       "      <td>-1</td>\n",
       "    </tr>\n",
       "    <tr>\n",
       "      <th>4</th>\n",
       "      <td>-1.336998</td>\n",
       "      <td>0.285731</td>\n",
       "      <td>0.575695</td>\n",
       "      <td>-0.201369</td>\n",
       "      <td>7</td>\n",
       "      <td>0</td>\n",
       "    </tr>\n",
       "    <tr>\n",
       "      <th>5</th>\n",
       "      <td>-0.330901</td>\n",
       "      <td>0.718104</td>\n",
       "      <td>0.562255</td>\n",
       "      <td>0.953785</td>\n",
       "      <td>4</td>\n",
       "      <td>0</td>\n",
       "    </tr>\n",
       "    <tr>\n",
       "      <th>6</th>\n",
       "      <td>-1.037380</td>\n",
       "      <td>-0.652701</td>\n",
       "      <td>2.280855</td>\n",
       "      <td>1.692344</td>\n",
       "      <td>0</td>\n",
       "      <td>-1</td>\n",
       "    </tr>\n",
       "    <tr>\n",
       "      <th>7</th>\n",
       "      <td>-0.208266</td>\n",
       "      <td>-0.783505</td>\n",
       "      <td>1.674454</td>\n",
       "      <td>0.162349</td>\n",
       "      <td>5</td>\n",
       "      <td>1</td>\n",
       "    </tr>\n",
       "    <tr>\n",
       "      <th>8</th>\n",
       "      <td>0.338125</td>\n",
       "      <td>-1.026481</td>\n",
       "      <td>0.167935</td>\n",
       "      <td>1.112484</td>\n",
       "      <td>3</td>\n",
       "      <td>0</td>\n",
       "    </tr>\n",
       "    <tr>\n",
       "      <th>9</th>\n",
       "      <td>-0.820795</td>\n",
       "      <td>0.115481</td>\n",
       "      <td>0.244547</td>\n",
       "      <td>0.809821</td>\n",
       "      <td>4</td>\n",
       "      <td>-1</td>\n",
       "    </tr>\n",
       "  </tbody>\n",
       "</table>\n",
       "</div>"
      ],
      "text/plain": [
       "          A         B         C         D  E  F\n",
       "0 -0.287319 -0.996540 -1.203591 -0.337469  0 -1\n",
       "1 -2.540634 -0.334815  0.150543  1.473180  7  1\n",
       "2  0.821525 -0.579491 -1.925279 -1.296644  1 -1\n",
       "3  0.800383 -0.893136 -0.641342 -0.197291  4 -1\n",
       "4 -1.336998  0.285731  0.575695 -0.201369  7  0\n",
       "5 -0.330901  0.718104  0.562255  0.953785  4  0\n",
       "6 -1.037380 -0.652701  2.280855  1.692344  0 -1\n",
       "7 -0.208266 -0.783505  1.674454  0.162349  5  1\n",
       "8  0.338125 -1.026481  0.167935  1.112484  3  0\n",
       "9 -0.820795  0.115481  0.244547  0.809821  4 -1"
      ]
     },
     "execution_count": 70,
     "metadata": {},
     "output_type": "execute_result"
    }
   ],
   "source": [
    "df "
   ]
  },
  {
   "cell_type": "code",
   "execution_count": null,
   "metadata": {},
   "outputs": [],
   "source": []
  },
  {
   "cell_type": "code",
   "execution_count": null,
   "metadata": {},
   "outputs": [],
   "source": []
  },
  {
   "cell_type": "code",
   "execution_count": 6,
   "metadata": {},
   "outputs": [],
   "source": [
    "class Viewer(widgets.DOMWidget):\n",
    "    pass\n"
   ]
  },
  {
   "cell_type": "code",
   "execution_count": 7,
   "metadata": {},
   "outputs": [],
   "source": [
    "#\n",
    "# df\n",
    "# new_df = resample(df, .5)\n",
    "# viewer = Visualiser(new_df)\n",
    "#\n"
   ]
  },
  {
   "cell_type": "code",
   "execution_count": 8,
   "metadata": {},
   "outputs": [
    {
     "data": {
      "application/vnd.plotly.v1+json": {
       "config": {
        "plotlyServerURL": "https://plot.ly"
       },
       "data": [
        {
         "hovertemplate": "x=%{x}<br>y=%{y}<extra></extra>",
         "legendgroup": "",
         "marker": {
          "color": "#636efa",
          "symbol": "circle"
         },
         "mode": "markers",
         "name": "",
         "orientation": "v",
         "showlegend": false,
         "type": "scatter",
         "x": [
          0,
          1,
          2,
          3,
          4
         ],
         "xaxis": "x",
         "y": [
          0,
          1,
          4,
          9,
          16
         ],
         "yaxis": "y"
        }
       ],
       "layout": {
        "legend": {
         "tracegroupgap": 0
        },
        "margin": {
         "t": 60
        },
        "template": {
         "data": {
          "bar": [
           {
            "error_x": {
             "color": "#2a3f5f"
            },
            "error_y": {
             "color": "#2a3f5f"
            },
            "marker": {
             "line": {
              "color": "#E5ECF6",
              "width": 0.5
             },
             "pattern": {
              "fillmode": "overlay",
              "size": 10,
              "solidity": 0.2
             }
            },
            "type": "bar"
           }
          ],
          "barpolar": [
           {
            "marker": {
             "line": {
              "color": "#E5ECF6",
              "width": 0.5
             },
             "pattern": {
              "fillmode": "overlay",
              "size": 10,
              "solidity": 0.2
             }
            },
            "type": "barpolar"
           }
          ],
          "carpet": [
           {
            "aaxis": {
             "endlinecolor": "#2a3f5f",
             "gridcolor": "white",
             "linecolor": "white",
             "minorgridcolor": "white",
             "startlinecolor": "#2a3f5f"
            },
            "baxis": {
             "endlinecolor": "#2a3f5f",
             "gridcolor": "white",
             "linecolor": "white",
             "minorgridcolor": "white",
             "startlinecolor": "#2a3f5f"
            },
            "type": "carpet"
           }
          ],
          "choropleth": [
           {
            "colorbar": {
             "outlinewidth": 0,
             "ticks": ""
            },
            "type": "choropleth"
           }
          ],
          "contour": [
           {
            "colorbar": {
             "outlinewidth": 0,
             "ticks": ""
            },
            "colorscale": [
             [
              0,
              "#0d0887"
             ],
             [
              0.1111111111111111,
              "#46039f"
             ],
             [
              0.2222222222222222,
              "#7201a8"
             ],
             [
              0.3333333333333333,
              "#9c179e"
             ],
             [
              0.4444444444444444,
              "#bd3786"
             ],
             [
              0.5555555555555556,
              "#d8576b"
             ],
             [
              0.6666666666666666,
              "#ed7953"
             ],
             [
              0.7777777777777778,
              "#fb9f3a"
             ],
             [
              0.8888888888888888,
              "#fdca26"
             ],
             [
              1,
              "#f0f921"
             ]
            ],
            "type": "contour"
           }
          ],
          "contourcarpet": [
           {
            "colorbar": {
             "outlinewidth": 0,
             "ticks": ""
            },
            "type": "contourcarpet"
           }
          ],
          "heatmap": [
           {
            "colorbar": {
             "outlinewidth": 0,
             "ticks": ""
            },
            "colorscale": [
             [
              0,
              "#0d0887"
             ],
             [
              0.1111111111111111,
              "#46039f"
             ],
             [
              0.2222222222222222,
              "#7201a8"
             ],
             [
              0.3333333333333333,
              "#9c179e"
             ],
             [
              0.4444444444444444,
              "#bd3786"
             ],
             [
              0.5555555555555556,
              "#d8576b"
             ],
             [
              0.6666666666666666,
              "#ed7953"
             ],
             [
              0.7777777777777778,
              "#fb9f3a"
             ],
             [
              0.8888888888888888,
              "#fdca26"
             ],
             [
              1,
              "#f0f921"
             ]
            ],
            "type": "heatmap"
           }
          ],
          "heatmapgl": [
           {
            "colorbar": {
             "outlinewidth": 0,
             "ticks": ""
            },
            "colorscale": [
             [
              0,
              "#0d0887"
             ],
             [
              0.1111111111111111,
              "#46039f"
             ],
             [
              0.2222222222222222,
              "#7201a8"
             ],
             [
              0.3333333333333333,
              "#9c179e"
             ],
             [
              0.4444444444444444,
              "#bd3786"
             ],
             [
              0.5555555555555556,
              "#d8576b"
             ],
             [
              0.6666666666666666,
              "#ed7953"
             ],
             [
              0.7777777777777778,
              "#fb9f3a"
             ],
             [
              0.8888888888888888,
              "#fdca26"
             ],
             [
              1,
              "#f0f921"
             ]
            ],
            "type": "heatmapgl"
           }
          ],
          "histogram": [
           {
            "marker": {
             "pattern": {
              "fillmode": "overlay",
              "size": 10,
              "solidity": 0.2
             }
            },
            "type": "histogram"
           }
          ],
          "histogram2d": [
           {
            "colorbar": {
             "outlinewidth": 0,
             "ticks": ""
            },
            "colorscale": [
             [
              0,
              "#0d0887"
             ],
             [
              0.1111111111111111,
              "#46039f"
             ],
             [
              0.2222222222222222,
              "#7201a8"
             ],
             [
              0.3333333333333333,
              "#9c179e"
             ],
             [
              0.4444444444444444,
              "#bd3786"
             ],
             [
              0.5555555555555556,
              "#d8576b"
             ],
             [
              0.6666666666666666,
              "#ed7953"
             ],
             [
              0.7777777777777778,
              "#fb9f3a"
             ],
             [
              0.8888888888888888,
              "#fdca26"
             ],
             [
              1,
              "#f0f921"
             ]
            ],
            "type": "histogram2d"
           }
          ],
          "histogram2dcontour": [
           {
            "colorbar": {
             "outlinewidth": 0,
             "ticks": ""
            },
            "colorscale": [
             [
              0,
              "#0d0887"
             ],
             [
              0.1111111111111111,
              "#46039f"
             ],
             [
              0.2222222222222222,
              "#7201a8"
             ],
             [
              0.3333333333333333,
              "#9c179e"
             ],
             [
              0.4444444444444444,
              "#bd3786"
             ],
             [
              0.5555555555555556,
              "#d8576b"
             ],
             [
              0.6666666666666666,
              "#ed7953"
             ],
             [
              0.7777777777777778,
              "#fb9f3a"
             ],
             [
              0.8888888888888888,
              "#fdca26"
             ],
             [
              1,
              "#f0f921"
             ]
            ],
            "type": "histogram2dcontour"
           }
          ],
          "mesh3d": [
           {
            "colorbar": {
             "outlinewidth": 0,
             "ticks": ""
            },
            "type": "mesh3d"
           }
          ],
          "parcoords": [
           {
            "line": {
             "colorbar": {
              "outlinewidth": 0,
              "ticks": ""
             }
            },
            "type": "parcoords"
           }
          ],
          "pie": [
           {
            "automargin": true,
            "type": "pie"
           }
          ],
          "scatter": [
           {
            "fillpattern": {
             "fillmode": "overlay",
             "size": 10,
             "solidity": 0.2
            },
            "type": "scatter"
           }
          ],
          "scatter3d": [
           {
            "line": {
             "colorbar": {
              "outlinewidth": 0,
              "ticks": ""
             }
            },
            "marker": {
             "colorbar": {
              "outlinewidth": 0,
              "ticks": ""
             }
            },
            "type": "scatter3d"
           }
          ],
          "scattercarpet": [
           {
            "marker": {
             "colorbar": {
              "outlinewidth": 0,
              "ticks": ""
             }
            },
            "type": "scattercarpet"
           }
          ],
          "scattergeo": [
           {
            "marker": {
             "colorbar": {
              "outlinewidth": 0,
              "ticks": ""
             }
            },
            "type": "scattergeo"
           }
          ],
          "scattergl": [
           {
            "marker": {
             "colorbar": {
              "outlinewidth": 0,
              "ticks": ""
             }
            },
            "type": "scattergl"
           }
          ],
          "scattermapbox": [
           {
            "marker": {
             "colorbar": {
              "outlinewidth": 0,
              "ticks": ""
             }
            },
            "type": "scattermapbox"
           }
          ],
          "scatterpolar": [
           {
            "marker": {
             "colorbar": {
              "outlinewidth": 0,
              "ticks": ""
             }
            },
            "type": "scatterpolar"
           }
          ],
          "scatterpolargl": [
           {
            "marker": {
             "colorbar": {
              "outlinewidth": 0,
              "ticks": ""
             }
            },
            "type": "scatterpolargl"
           }
          ],
          "scatterternary": [
           {
            "marker": {
             "colorbar": {
              "outlinewidth": 0,
              "ticks": ""
             }
            },
            "type": "scatterternary"
           }
          ],
          "surface": [
           {
            "colorbar": {
             "outlinewidth": 0,
             "ticks": ""
            },
            "colorscale": [
             [
              0,
              "#0d0887"
             ],
             [
              0.1111111111111111,
              "#46039f"
             ],
             [
              0.2222222222222222,
              "#7201a8"
             ],
             [
              0.3333333333333333,
              "#9c179e"
             ],
             [
              0.4444444444444444,
              "#bd3786"
             ],
             [
              0.5555555555555556,
              "#d8576b"
             ],
             [
              0.6666666666666666,
              "#ed7953"
             ],
             [
              0.7777777777777778,
              "#fb9f3a"
             ],
             [
              0.8888888888888888,
              "#fdca26"
             ],
             [
              1,
              "#f0f921"
             ]
            ],
            "type": "surface"
           }
          ],
          "table": [
           {
            "cells": {
             "fill": {
              "color": "#EBF0F8"
             },
             "line": {
              "color": "white"
             }
            },
            "header": {
             "fill": {
              "color": "#C8D4E3"
             },
             "line": {
              "color": "white"
             }
            },
            "type": "table"
           }
          ]
         },
         "layout": {
          "annotationdefaults": {
           "arrowcolor": "#2a3f5f",
           "arrowhead": 0,
           "arrowwidth": 1
          },
          "autotypenumbers": "strict",
          "coloraxis": {
           "colorbar": {
            "outlinewidth": 0,
            "ticks": ""
           }
          },
          "colorscale": {
           "diverging": [
            [
             0,
             "#8e0152"
            ],
            [
             0.1,
             "#c51b7d"
            ],
            [
             0.2,
             "#de77ae"
            ],
            [
             0.3,
             "#f1b6da"
            ],
            [
             0.4,
             "#fde0ef"
            ],
            [
             0.5,
             "#f7f7f7"
            ],
            [
             0.6,
             "#e6f5d0"
            ],
            [
             0.7,
             "#b8e186"
            ],
            [
             0.8,
             "#7fbc41"
            ],
            [
             0.9,
             "#4d9221"
            ],
            [
             1,
             "#276419"
            ]
           ],
           "sequential": [
            [
             0,
             "#0d0887"
            ],
            [
             0.1111111111111111,
             "#46039f"
            ],
            [
             0.2222222222222222,
             "#7201a8"
            ],
            [
             0.3333333333333333,
             "#9c179e"
            ],
            [
             0.4444444444444444,
             "#bd3786"
            ],
            [
             0.5555555555555556,
             "#d8576b"
            ],
            [
             0.6666666666666666,
             "#ed7953"
            ],
            [
             0.7777777777777778,
             "#fb9f3a"
            ],
            [
             0.8888888888888888,
             "#fdca26"
            ],
            [
             1,
             "#f0f921"
            ]
           ],
           "sequentialminus": [
            [
             0,
             "#0d0887"
            ],
            [
             0.1111111111111111,
             "#46039f"
            ],
            [
             0.2222222222222222,
             "#7201a8"
            ],
            [
             0.3333333333333333,
             "#9c179e"
            ],
            [
             0.4444444444444444,
             "#bd3786"
            ],
            [
             0.5555555555555556,
             "#d8576b"
            ],
            [
             0.6666666666666666,
             "#ed7953"
            ],
            [
             0.7777777777777778,
             "#fb9f3a"
            ],
            [
             0.8888888888888888,
             "#fdca26"
            ],
            [
             1,
             "#f0f921"
            ]
           ]
          },
          "colorway": [
           "#636efa",
           "#EF553B",
           "#00cc96",
           "#ab63fa",
           "#FFA15A",
           "#19d3f3",
           "#FF6692",
           "#B6E880",
           "#FF97FF",
           "#FECB52"
          ],
          "font": {
           "color": "#2a3f5f"
          },
          "geo": {
           "bgcolor": "white",
           "lakecolor": "white",
           "landcolor": "#E5ECF6",
           "showlakes": true,
           "showland": true,
           "subunitcolor": "white"
          },
          "hoverlabel": {
           "align": "left"
          },
          "hovermode": "closest",
          "mapbox": {
           "style": "light"
          },
          "paper_bgcolor": "white",
          "plot_bgcolor": "#E5ECF6",
          "polar": {
           "angularaxis": {
            "gridcolor": "white",
            "linecolor": "white",
            "ticks": ""
           },
           "bgcolor": "#E5ECF6",
           "radialaxis": {
            "gridcolor": "white",
            "linecolor": "white",
            "ticks": ""
           }
          },
          "scene": {
           "xaxis": {
            "backgroundcolor": "#E5ECF6",
            "gridcolor": "white",
            "gridwidth": 2,
            "linecolor": "white",
            "showbackground": true,
            "ticks": "",
            "zerolinecolor": "white"
           },
           "yaxis": {
            "backgroundcolor": "#E5ECF6",
            "gridcolor": "white",
            "gridwidth": 2,
            "linecolor": "white",
            "showbackground": true,
            "ticks": "",
            "zerolinecolor": "white"
           },
           "zaxis": {
            "backgroundcolor": "#E5ECF6",
            "gridcolor": "white",
            "gridwidth": 2,
            "linecolor": "white",
            "showbackground": true,
            "ticks": "",
            "zerolinecolor": "white"
           }
          },
          "shapedefaults": {
           "line": {
            "color": "#2a3f5f"
           }
          },
          "ternary": {
           "aaxis": {
            "gridcolor": "white",
            "linecolor": "white",
            "ticks": ""
           },
           "baxis": {
            "gridcolor": "white",
            "linecolor": "white",
            "ticks": ""
           },
           "bgcolor": "#E5ECF6",
           "caxis": {
            "gridcolor": "white",
            "linecolor": "white",
            "ticks": ""
           }
          },
          "title": {
           "x": 0.05
          },
          "xaxis": {
           "automargin": true,
           "gridcolor": "white",
           "linecolor": "white",
           "ticks": "",
           "title": {
            "standoff": 15
           },
           "zerolinecolor": "white",
           "zerolinewidth": 2
          },
          "yaxis": {
           "automargin": true,
           "gridcolor": "white",
           "linecolor": "white",
           "ticks": "",
           "title": {
            "standoff": 15
           },
           "zerolinecolor": "white",
           "zerolinewidth": 2
          }
         }
        },
        "xaxis": {
         "anchor": "y",
         "domain": [
          0,
          1
         ],
         "title": {
          "text": "x"
         }
        },
        "yaxis": {
         "anchor": "x",
         "domain": [
          0,
          1
         ],
         "title": {
          "text": "y"
         }
        }
       }
      }
     },
     "metadata": {},
     "output_type": "display_data"
    }
   ],
   "source": [
    "fig = px.scatter(x=[0, 1, 2, 3, 4], y=[0, 1, 4, 9, 16])\n",
    "fig.show()\n"
   ]
  },
  {
   "cell_type": "code",
   "execution_count": 9,
   "metadata": {},
   "outputs": [
    {
     "data": {
      "text/plain": [
       "(Scatter({\n",
       "     'hovertemplate': 'x=%{x}<br>y=%{y}<extra></extra>',\n",
       "     'legendgroup': '',\n",
       "     'marker': {'color': '#636efa', 'symbol': 'circle'},\n",
       "     'mode': 'markers',\n",
       "     'name': '',\n",
       "     'orientation': 'v',\n",
       "     'showlegend': False,\n",
       "     'x': array([0, 1, 2, 3, 4]),\n",
       "     'xaxis': 'x',\n",
       "     'y': array([ 0,  1,  4,  9, 16]),\n",
       "     'yaxis': 'y'\n",
       " }),\n",
       " array([0, 1, 2, 3, 4]))"
      ]
     },
     "execution_count": 9,
     "metadata": {},
     "output_type": "execute_result"
    }
   ],
   "source": [
    "fig.data[0], fig.data[0][\"x\"]\n"
   ]
  },
  {
   "cell_type": "code",
   "execution_count": null,
   "metadata": {},
   "outputs": [],
   "source": [
    "\n"
   ]
  },
  {
   "cell_type": "code",
   "execution_count": 13,
   "metadata": {},
   "outputs": [],
   "source": [
    "def resample(data):\n",
    "    return data\n",
    "\n",
    "\n",
    "def Visualize(\n",
    "    data: pd.DataFrame,\n",
    "    embedding_features: list[str],\n",
    "    hover_features: list[str],\n",
    "    target: list[str],\n",
    "    smart_frac: float,\n",
    "    convex_hull: bool,\n",
    "    regr_line_,\n",
    "    path_to_structures: list[str],\n",
    "):\n",
    "    \"\"\"\n",
    "    df: pandas dataframe containing all data to be visualized\n",
    "    embedding_features: list of features used for embedding\n",
    "    hover_features: list of features shown while hovering\n",
    "    target: feature used to create traces (same target value - same trace)\n",
    "    smart_frac: fraction of points is selected to maximize visualization of data distribution\n",
    "    path_to_structures: path to a directory that contains all 'xyz' structures to be visualized\n",
    "    \"\"\"\n",
    "    pass\n",
    "\n",
    "    def add_comvex_hull(self):\n",
    "        \"\"\"\n",
    "        convex hull is drawn around each trace\n",
    "        \"\"\"\n",
    "        pass\n",
    "\n",
    "    def add_regression_line(self, coefs: list[float]):\n",
    "        \"\"\"\n",
    "        coefs: coeffs of a regression line\n",
    "        \"\"\"\n",
    "        pass\n",
    "\n",
    "\n",
    "# ????df = resample(df, fraction, target)\n",
    "\n",
    "# visualiser = Visualize(df)\n",
    "# visualiser.add_comvex_hull()\n",
    "# visualiser.add_regression_line()\n"
   ]
  },
  {
   "cell_type": "code",
   "execution_count": 14,
   "metadata": {},
   "outputs": [],
   "source": [
    "class FigureWidget:\n",
    "    pass\n",
    "\n",
    "\n",
    "class AtomisticViewer:\n",
    "    pass\n",
    "\n",
    "\n",
    "class SettingsWidget:\n",
    "    pass\n",
    "\n",
    "\n",
    "class Visualizer:\n",
    "    def __init__(self, *args, **kwargs):\n",
    "\n",
    "        self.figure = FigureWidget()\n",
    "        self.viewer = AtomisticViewer()\n",
    "        self.settings = SettingsWidget()\n",
    "\n",
    "        # TODO: link events together between different widgets\n"
   ]
  },
  {
   "cell_type": "code",
   "execution_count": 16,
   "metadata": {},
   "outputs": [],
   "source": [
    "def make(\n",
    "    data: pd.DataFrame,\n",
    "    embedding_features: list[str],\n",
    "    hover_features: list[str],\n",
    "    target: list[str],\n",
    "    smart_frac: float,\n",
    "    convex_hull: bool,\n",
    "    regr_line_coefs: list[float],\n",
    "    path_to_structures: list[str],\n",
    "):\n",
    "    \"\"\"\n",
    "    df: pandas dataframe containing all data to be visualized\n",
    "    embedding_features: list of features used for embedding\n",
    "    hover_features: list of features shown while hovering\n",
    "    target: feature used to create traces (same target value - same trace)\n",
    "    smart_frac: fraction of points is selected to maximize visualization of data distribution\n",
    "    convex_hull: convex hull is drawn around each trace\n",
    "    regr_line_coefs: coeffs of a regression line\n",
    "    path_to_structures: path to a directory that contains all 'xyz' structures to be visualized\n",
    "    \"\"\"\n",
    "    pass\n"
   ]
  },
  {
   "cell_type": "code",
   "execution_count": null,
   "metadata": {},
   "outputs": [],
   "source": []
  },
  {
   "cell_type": "code",
   "execution_count": null,
   "metadata": {},
   "outputs": [],
   "source": []
  },
  {
   "cell_type": "code",
   "execution_count": 17,
   "metadata": {},
   "outputs": [],
   "source": [
    "# #  properties = Properties()\n",
    "# # Visualiser()\n",
    "#\n",
    "# default_style = {}\n",
    "#\n",
    "#\n",
    "# class WidgetLayout:\n",
    "#     pass\n",
    "#\n",
    "#\n",
    "# class NewVisualizer(WidgetLayout):\n",
    "#     def __init__(\n",
    "#         self,\n",
    "#         data: pd.,\n",
    "#         *args, **kwargs) -> None:\n",
    "#         pass\n",
    "#\n",
    "#\n",
    "# widget = NewVisualizer(\n",
    "#     data = np.zeros(3,10),\n",
    "#     columns = []\n",
    "#\n",
    "# )\n",
    "#\n"
   ]
  },
  {
   "cell_type": "code",
   "execution_count": null,
   "metadata": {},
   "outputs": [],
   "source": [
    "# constants\n",
    "\n",
    "# list of possible marker symbols\n",
    "symbols_list = [\n",
    "    \"circle\",\n",
    "    \"circle-open\",\n",
    "    \"circle-dot\",\n",
    "    \"circle-open-dot\",\n",
    "    \"circle-cross\",\n",
    "    \"circle-x\",\n",
    "    \"square\",\n",
    "    \"square-open\",\n",
    "    \"square-dot\",\n",
    "    \"square-open-dot\",\n",
    "    \"square-cross\",\n",
    "    \"square-x\",\n",
    "    \"diamond\",\n",
    "    \"diamond-open\",\n",
    "    \"diamond-dot\",\n",
    "    \"diamond-open-dot\",\n",
    "    \"diamond-cross\",\n",
    "    \"diamond-x\",\n",
    "    \"triangle-up\",\n",
    "    \"triangle-up-open\",\n",
    "    \"triangle-up-dot\",\n",
    "    \"triangle-up-open-dot\",\n",
    "    \"triangle-down\",\n",
    "    \"triangle-down-open\",\n",
    "    \"triangle-down-dot\",\n",
    "    \"triangle-down-open-dot\",\n",
    "]\n",
    "# list of possible colors of the hulls\n",
    "color_hull = [\n",
    "    \"Black\",\n",
    "    \"Blue\",\n",
    "    \"Cyan\",\n",
    "    \"Green\",\n",
    "    \"Grey\",\n",
    "    \"Orange\",\n",
    "    \"Red\",\n",
    "    \"Yellow\",\n",
    "]\n",
    "# list of possible colors of the regression line\n",
    "color_line = [\n",
    "    \"Black\",\n",
    "    \"Blue\",\n",
    "    \"Cyan\",\n",
    "    \"Green\",\n",
    "    \"Grey\",\n",
    "    \"Orange\",\n",
    "    \"Red\",\n",
    "    \"Yellow\",\n",
    "]\n",
    "# list of possible dash types for the regression line\n",
    "line_dashs = [\"dash\", \"solid\", \"dot\", \"longdash\", \"dashdot\", \"longdashdot\"]\n",
    "# list of possible dash types for the hulls\n",
    "hull_dashs = [\"dash\", \"solid\", \"dot\", \"longdash\", \"dashdot\", \"longdashdot\"]\n",
    "# list of possible font families\n",
    "font_families = [\n",
    "    \"Arial\",\n",
    "    \"Courier New\",\n",
    "    \"Helvetica\",\n",
    "    \"Open Sans\",\n",
    "    \"Times New Roman\",\n",
    "    \"Verdana\",\n",
    "]\n",
    "# list of possible font colors\n",
    "font_color = [\n",
    "    \"Black\",\n",
    "    \"Blue\",\n",
    "    \"Cyan\",\n",
    "    \"Green\",\n",
    "    \"Grey\",\n",
    "    \"Orange\",\n",
    "    \"Red\",\n",
    "    \"Yellow\",\n",
    "]\n",
    "# list of possible discrete palette colors\n",
    "discrete_palette_colors = [\n",
    "    \"Plotly\",\n",
    "    \"D3\",\n",
    "    \"G10\",\n",
    "    \"T10\",\n",
    "    \"Alphabet\",\n",
    "    \"Dark24\",\n",
    "    \"Light24\",\n",
    "    \"Set1\",\n",
    "    \"Pastel1\",\n",
    "    \"Dark2\",\n",
    "    \"Set2\",\n",
    "    \"Pastel2\",\n",
    "    \"Set3\",\n",
    "    \"Antique\",\n",
    "    \"Bold\",\n",
    "    \"Pastel\",\n",
    "    \"Prism\",\n",
    "    \"Safe\",\n",
    "    \"Vivid\",\n",
    "]\n",
    "# list of possible continuous gradient colors\n",
    "continuous_gradient_colors = px.colors.named_colorscales()\n"
   ]
  },
  {
   "cell_type": "code",
   "execution_count": 18,
   "metadata": {},
   "outputs": [],
   "source": [
    "\n",
    "class Config:\n",
    "    \"\"\" all values below are initialized to a specific value that can be modified using widgets\n",
    "    \"\"\"\n",
    "    bg_color = \"rgba(229,236,246, 0.5)\"  # default value of the background color\n",
    "    marker_size = 7  # size of all markers\n",
    "    cross_size = 15  # size of the crosses\n",
    "    min_value_markerfeat =  4  # min value of markers size if sizes represent a certain feature value\n",
    "    max_value_markerfeat = 20  # max value of markers size if sizes represent a certain feature value\n",
    "    font_size = 12  # size of fonts\n",
    "    hull_width = 1  # width of the  the convex hull\n",
    "    line_width = 1  # width of the regression line\n",
    "    hull_dash = \"solid\"  # dash of the convex hull\n",
    "    line_dash = \"dash\"  # dash of the regression line\n",
    "    hull_color = \"Grey\"  # color of the convex hull\n",
    "    line_color = \"Black\"  # color of the regression line\n",
    "    "
   ]
  },
  {
   "cell_type": "code",
   "execution_count": 27,
   "metadata": {},
   "outputs": [
    {
     "data": {
      "application/vnd.jupyter.widget-view+json": {
       "model_id": "ccd48725972e452e8b7fa145fe4b9b1f",
       "version_major": 2,
       "version_minor": 0
      },
      "text/plain": [
       "VBox(children=(HBox(children=(VBox(children=(Dropdown(description='x-axis', layout=Layout(width='250px'), opti…"
      ]
     },
     "metadata": {},
     "output_type": "display_data"
    }
   ],
   "source": [
    "# embedding_features = ['A', 'B', 'C']\n",
    "# hover_features = ['AA', 'BB', 'CC']\n",
    "# feat_x = 'A'\n",
    "# feat_y = 'B'\n",
    "# fracture = 1.0\n",
    "# \n",
    "# widget_feature_x = widgets.Dropdown(\n",
    "#     description=\"x-axis\",\n",
    "#     options=embedding_features,\n",
    "#     value=feat_x,\n",
    "#     layout=widgets.Layout(width=\"250px\"),\n",
    "# )\n",
    "# \n",
    "# widget_feature_y = widgets.Dropdown(\n",
    "#     description=\"y-axis\",\n",
    "#     options=embedding_features,\n",
    "#     value=feat_y,\n",
    "#     layout=widgets.Layout(width=\"250px\"),\n",
    "# )\n",
    "# \n",
    "# widget_fracture = widgets.BoundedFloatText(\n",
    "#     min=0,\n",
    "#     max=1.,\n",
    "#     # step=0.01,\n",
    "#     value=fracture,\n",
    "#     layout=widgets.Layout(left=\"98px\", width=\"60px\"),\n",
    "# )\n",
    "# \n",
    "# widget_facture_label = widgets.Label(\n",
    "#     value=\"Fraction: \", layout=widgets.Layout(left=\"95px\")\n",
    "# )\n",
    "# \n",
    "# widget_feature_color = widgets.Dropdown(\n",
    "#     description=\"Color\",\n",
    "#     options=[\"Default color\"] + hover_features,\n",
    "#     value=\"Default color\",\n",
    "#     layout=widgets.Layout(width=\"250px\"),\n",
    "# )\n",
    "# \n",
    "# widget_feature_color_type = widgets.RadioButtons(\n",
    "#     options=[\"Gradient\", \"Discrete\"],\n",
    "#     value=\"Gradient\",\n",
    "#     layout=widgets.Layout(width=\"140px\", left=\"90px\"),\n",
    "# )\n",
    "# \n",
    "# widget_feature_color_list = widgets.Dropdown(\n",
    "#     options=px.colors.named_colorscales(),\n",
    "#     value=\"viridis\",\n",
    "#     layout=widgets.Layout(width=\"65px\", height=\"35px\", left=\"40px\"),\n",
    "# )\n",
    "# \n",
    "# widget_feature_marker = widgets.Dropdown(\n",
    "#     description=\"Marker\",\n",
    "#     options=[\"Default size\"] + hover_features,\n",
    "#     value=\"Default size\",\n",
    "#     layout=widgets.Layout(width=\"250px\"),\n",
    "# )\n",
    "# widget_feature_marker_minvalue = widgets.BoundedFloatText(\n",
    "#     min=0,\n",
    "#     # max=self.max_value_markerfeat,\n",
    "#     step=1,\n",
    "#     # value=self.min_value_markerfeat,\n",
    "#     layout=widgets.Layout(left=\"91px\", width=\"60px\", height=\"10px\"),\n",
    "# )\n",
    "# widget_feature_marker_minvalue_label = widgets.Label(\n",
    "#     value=\"Min value: \", layout=widgets.Layout(left=\"94px\", width=\"70px\")\n",
    "# )\n",
    "# widget_feature_marker_maxvalue = widgets.BoundedFloatText(\n",
    "#     # min=self.min_value_markerfeat,\n",
    "#     step=1,\n",
    "#     # value=self.max_value_markerfeat,\n",
    "#     layout=widgets.Layout(left=\"91px\", width=\"60px\"),\n",
    "# )\n",
    "# widget_feature_marker_maxvalue_label = widgets.Label(\n",
    "#     value=\"Max value: \", layout=widgets.Layout(left=\"94px\", width=\"70px\")\n",
    "# )\n",
    "# \n",
    "# \n",
    "# box_feat = widgets.VBox(\n",
    "#     [\n",
    "#         widgets.HBox(\n",
    "#             [\n",
    "#                 widgets.VBox(\n",
    "#                     [\n",
    "#                         widget_feature_x,\n",
    "#                         widget_feature_y,\n",
    "#                         widgets.HBox([widget_facture_label, widget_fracture]),\n",
    "#                     ]\n",
    "#                 ),\n",
    "#                 widgets.VBox(\n",
    "#                     [\n",
    "#                         widget_feature_color,\n",
    "#                         widgets.HBox(\n",
    "#                             [widget_feature_color_type, widget_feature_color_list],\n",
    "#                             layout=widgets.Layout(top=\"10px\"),\n",
    "#                         ),\n",
    "#                     ]\n",
    "#                 ),\n",
    "#                 widgets.VBox(\n",
    "#                     [\n",
    "#                         widget_feature_marker,\n",
    "#                         widgets.VBox(\n",
    "#                             [\n",
    "#                                 widgets.HBox(\n",
    "#                                     [\n",
    "#                                         widget_feature_marker_minvalue_label,\n",
    "#                                         widget_feature_marker_minvalue,\n",
    "#                                     ],\n",
    "#                                 ),\n",
    "#                                 widgets.HBox(\n",
    "#                                     [\n",
    "#                                         widget_feature_marker_maxvalue_label,\n",
    "#                                         widget_feature_marker_maxvalue,\n",
    "#                                     ],\n",
    "#                                 ),\n",
    "#                             ]\n",
    "#                         ),\n",
    "#                     ]\n",
    "#                 ),\n",
    "#             ]\n",
    "#         ),\n",
    "#     ]\n",
    "# )\n",
    "# \n",
    "# box_feat\n"
   ]
  },
  {
   "cell_type": "code",
   "execution_count": 52,
   "metadata": {},
   "outputs": [
    {
     "data": {
      "application/vnd.jupyter.widget-view+json": {
       "model_id": "127c38b111d147d4b77b1ef2d56b47d9",
       "version_major": 2,
       "version_minor": 0
      },
      "text/plain": [
       "Settings(children=(Dropdown(description='x-axis', layout=Layout(grid_area='widget001', width='250px'), options…"
      ]
     },
     "metadata": {},
     "output_type": "display_data"
    }
   ],
   "source": [
    "from ipywidgets import GridspecLayout\n",
    "\n",
    "\n",
    "class Settings(GridspecLayout):\n",
    "    def __init__(\n",
    "        self, embedding_features, hover_features, feature_x, feature_y, fracture, **kwargs\n",
    "    ):\n",
    "        super().__init__(3, 3)\n",
    "\n",
    "        widget_feature_x = widgets.Dropdown(\n",
    "            description=\"x-axis\",\n",
    "            options=embedding_features,\n",
    "            value=feature_x,\n",
    "            layout=widgets.Layout(width=\"250px\"),\n",
    "        )\n",
    "\n",
    "        widget_feature_y = widgets.Dropdown(\n",
    "            description=\"y-axis\",\n",
    "            options=embedding_features,\n",
    "            value=feature_y,\n",
    "            layout=widgets.Layout(width=\"250px\"),\n",
    "        )\n",
    "\n",
    "        widget_fracture = widgets.BoundedFloatText(\n",
    "            min=0,\n",
    "            max=1.0,\n",
    "            # step=0.01,\n",
    "            value=fracture,\n",
    "            layout=widgets.Layout(left=\"98px\", width=\"60px\"),\n",
    "        )\n",
    "\n",
    "        widget_facture_label = widgets.Label(\n",
    "            value=\"Fraction: \", layout=widgets.Layout(left=\"95px\")\n",
    "        )\n",
    "\n",
    "        widget_feature_color = widgets.Dropdown(\n",
    "            description=\"Color\",\n",
    "            options=[\"Default color\"] + hover_features,\n",
    "            value=\"Default color\",\n",
    "            layout=widgets.Layout(width=\"250px\"),\n",
    "        )\n",
    "\n",
    "        widget_feature_color_type = widgets.RadioButtons(\n",
    "            options=[\"Gradient\", \"Discrete\"],\n",
    "            value=\"Gradient\",\n",
    "            layout=widgets.Layout(width=\"140px\", left=\"90px\"),\n",
    "        )\n",
    "\n",
    "        widget_feature_color_list = widgets.Dropdown(\n",
    "            options=px.colors.named_colorscales(),\n",
    "            value=\"viridis\",\n",
    "            layout=widgets.Layout(width=\"65px\", height=\"35px\", left=\"40px\"),\n",
    "        )\n",
    "\n",
    "        widget_feature_marker = widgets.Dropdown(\n",
    "            description=\"Marker\",\n",
    "            options=[\"Default size\"] + hover_features,\n",
    "            value=\"Default size\",\n",
    "            layout=widgets.Layout(width=\"250px\"),\n",
    "        )\n",
    "        widget_feature_marker_minvalue = widgets.BoundedFloatText(\n",
    "            min=0,\n",
    "            # max=self.max_value_markerfeat,\n",
    "            step=1,\n",
    "            # value=self.min_value_markerfeat,\n",
    "            layout=widgets.Layout(left=\"91px\", width=\"60px\", height=\"10px\"),\n",
    "        )\n",
    "        widget_feature_marker_minvalue_label = widgets.Label(\n",
    "            value=\"Min value: \", layout=widgets.Layout(left=\"94px\", width=\"70px\")\n",
    "        )\n",
    "        widget_feature_marker_maxvalue = widgets.BoundedFloatText(\n",
    "            # min=self.min_value_markerfeat,\n",
    "            step=1,\n",
    "            # value=self.max_value_markerfeat,\n",
    "            layout=widgets.Layout(left=\"91px\", width=\"60px\"),\n",
    "        )\n",
    "        widget_feature_marker_maxvalue_label = widgets.Label(\n",
    "            value=\"Max value: \", layout=widgets.Layout(left=\"94px\", width=\"70px\")\n",
    "        )\n",
    "\n",
    "        self[0, 0] = widget_feature_x\n",
    "        self[1, 0] = widget_feature_y\n",
    "        self[2, 0] = widgets.Box([widget_facture_label, widget_fracture])\n",
    "\n",
    "        self[0, 1] = widget_feature_color\n",
    "        self[1:, 1] = widgets.HBox(\n",
    "            [widget_feature_color_type, widget_feature_color_list],\n",
    "            layout=widgets.Layout(top=\"10px\"),\n",
    "        )\n",
    "\n",
    "        self[0, 2] = widget_feature_marker\n",
    "        self[1, 2] = widgets.Box(\n",
    "            [\n",
    "                widget_feature_marker_minvalue_label,\n",
    "                widget_feature_marker_minvalue,\n",
    "            ]\n",
    "        )\n",
    "\n",
    "        self[2, 2] = widgets.Box(\n",
    "            [\n",
    "                widget_feature_marker_maxvalue_label,\n",
    "                widget_feature_marker_maxvalue,\n",
    "            ]\n",
    "        )\n",
    "\n",
    "        self.layout.height = \"140px\"\n",
    "        # self.layout.top = \"30px\"\n",
    "\n",
    "\n",
    "embedding_features = [\"A\", \"B\", \"C\"]\n",
    "hover_features = [\"AA\", \"BB\", \"CC\"]\n",
    "feature_x = \"A\"\n",
    "feature_y = \"B\"\n",
    "fracture = 1.0\n",
    "\n",
    "settings = Settings(embedding_features, hover_features, feature_x, feature_y, fracture)\n",
    "settings\n"
   ]
  },
  {
   "cell_type": "code",
   "execution_count": null,
   "metadata": {},
   "outputs": [],
   "source": []
  },
  {
   "cell_type": "code",
   "execution_count": 57,
   "metadata": {},
   "outputs": [
    {
     "data": {
      "application/vnd.jupyter.widget-view+json": {
       "model_id": "e487e00a39044096bf89399ddcd709de",
       "version_major": 2,
       "version_minor": 0
      },
      "text/plain": [
       "FigureWidget({\n",
       "    'data': [], 'layout': {'template': '...'}\n",
       "})"
      ]
     },
     "metadata": {},
     "output_type": "display_data"
    }
   ],
   "source": [
    "fig = go.FigureWidget()\n",
    "fig"
   ]
  },
  {
   "cell_type": "code",
   "execution_count": 125,
   "metadata": {},
   "outputs": [],
   "source": [
    "# extract features\n",
    "\n",
    "target = 'F'\n",
    "feature_x = 'A'\n",
    "feature_y = 'B'\n",
    "\n",
    "labels = df[target].unique().tolist()\n",
    "\n",
    "x = []\n",
    "y = []\n",
    "for label in labels:\n",
    "    mask = df['F']==label\n",
    "    x.append(df[feature_x][mask].to_numpy())\n",
    "    y.append(df[feature_y][mask].to_numpy())\n"
   ]
  },
  {
   "cell_type": "code",
   "execution_count": 144,
   "metadata": {},
   "outputs": [
    {
     "data": {
      "application/vnd.jupyter.widget-view+json": {
       "model_id": "584dd1fcfff6480e9e33e1cf86a21303",
       "version_major": 2,
       "version_minor": 0
      },
      "text/plain": [
       "Figure({\n",
       "    'data': [{'mode': 'markers',\n",
       "              'name': '-1',\n",
       "              'type': 'scatter',\n",
       "       …"
      ]
     },
     "metadata": {},
     "output_type": "display_data"
    }
   ],
   "source": [
    "# TODO dict for   \n",
    "# TODO: default: points = np.column_stack((x, y))\n",
    "\n",
    "from scipy.spatial import ConvexHull, convex_hull_plot_2d\n",
    "\n",
    "class Figure(go.FigureWidget):\n",
    "    def __init__(self, x, y, labels, layout=None, **kwargs):\n",
    "\n",
    "        self._x = x\n",
    "        self._y = y\n",
    "        self._labels = labels\n",
    "\n",
    "        self._regression_trace = None\n",
    "        self._complex_hull_traces = None\n",
    "\n",
    "        super().__init__(None, layout, **kwargs)\n",
    "\n",
    "        # All permanent layout settings are defined here\n",
    "        self.update_layout(\n",
    "            hoverlabel=dict(bgcolor=\"white\", font_size=16, font_family=\"Rockwell\"),\n",
    "            width=800,\n",
    "            height=400,\n",
    "            margin=dict(l=50, r=50, b=70, t=20, pad=4),\n",
    "        )\n",
    "        self.update_xaxes(\n",
    "            ticks=\"outside\", tickwidth=1, ticklen=10, linewidth=1, linecolor=\"black\"\n",
    "        )\n",
    "        self.update_yaxes(\n",
    "            ticks=\"outside\", tickwidth=1, ticklen=10, linewidth=1, linecolor=\"black\"\n",
    "        )\n",
    "\n",
    "        for (x, y, label) in zip(x, y, labels):\n",
    "            self.add_trace(go.Scatter(x=x, y=y, name=label, mode=\"markers\"))\n",
    "\n",
    "    def add_regression_line(self, coeffs):\n",
    "\n",
    "        self._regression_trace = go.Scatter(name=\"Line\")\n",
    "        self.add_trace(self._regression_trace)\n",
    "\n",
    "    def add_complex_hull(self):\n",
    "        \n",
    "        \n",
    "        for (x, y, label) in zip(self._x, self._y, self._labels):\n",
    "            if len(x) < 3: continue\n",
    "\n",
    "            points = np.column_stack((x, y))\n",
    "            hull = ConvexHull(points)\n",
    "            inds = np.append(hull.vertices, hull.vertices[0])\n",
    "\n",
    "            self.add_trace(go.Scatter(x=points[inds,0], y=points[inds,1]))\n",
    "            # for simplex in hull.simplices:\n",
    "            #     self.add_trace(go.Scatter(x=points[simplex, 0], y=points[simplex, 1]))\n",
    "\n",
    "\n",
    "fig = Figure(x, y, labels)\n",
    "fig.add_complex_hull()\n",
    "fig\n"
   ]
  },
  {
   "cell_type": "code",
   "execution_count": 139,
   "metadata": {},
   "outputs": [],
   "source": [
    "\n",
    "points = np.column_stack((x[0], y[0]))\n",
    "hull = ConvexHull(points)\n",
    "inds = np.append(hull.vertices, hull.vertices[0])\n",
    "\n",
    "# self.add_trace(go.Scatter(x=points[,0], y=points[hull.vertices,1]))\n",
    "# for simplex in hull.simplices:\n",
    "#     self.add_trace(go.Scatter(x=points[simplex, 0], y=points[simplex, 1]))\n"
   ]
  }
 ],
 "metadata": {
  "kernelspec": {
   "display_name": "Python 3 (ipykernel)",
   "language": "python",
   "name": "python3"
  },
  "language_info": {
   "codemirror_mode": {
    "name": "ipython",
    "version": 3
   },
   "file_extension": ".py",
   "mimetype": "text/x-python",
   "name": "python",
   "nbconvert_exporter": "python",
   "pygments_lexer": "ipython3",
   "version": "3.10.6 | packaged by conda-forge | (main, Aug 22 2022, 20:41:54) [Clang 13.0.1 ]"
  },
  "vscode": {
   "interpreter": {
    "hash": "167aa5bbf7d087246cb59b919d53bb10bd139402a1d5a932a7cbff3c8a777b14"
   }
  }
 },
 "nbformat": 4,
 "nbformat_minor": 2
}
