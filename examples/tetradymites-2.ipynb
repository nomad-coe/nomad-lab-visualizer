{
 "cells": [
  {
   "cell_type": "code",
   "execution_count": 1,
   "metadata": {
    "ExecuteTime": {
     "end_time": "2022-09-07T10:29:35.347855Z",
     "start_time": "2022-09-07T10:29:34.234612Z"
    }
   },
   "outputs": [],
   "source": [
    "import pandas as pd\n",
    "from nomad_lab_visualizer import Visualizer\n"
   ]
  },
  {
   "cell_type": "code",
   "execution_count": 2,
   "metadata": {
    "ExecuteTime": {
     "end_time": "2022-09-07T10:43:24.763817Z",
     "start_time": "2022-09-07T10:43:24.746571Z"
    }
   },
   "outputs": [],
   "source": [
    "df = pd.read_pickle(\"./data/tetradymites/df\")\n"
   ]
  },
  {
   "cell_type": "code",
   "execution_count": 3,
   "metadata": {
    "ExecuteTime": {
     "end_time": "2022-09-07T10:43:26.349152Z",
     "start_time": "2022-09-07T10:43:26.338176Z"
    }
   },
   "outputs": [],
   "source": [
    "features = [\n",
    "    \"[[[Z11A+Z11B]*[Z11C+Z11D]]-abs[[Z11A*Z11D]-[Z11B*Z11C]]]\",\n",
    "    \"abs[[[X16C+X16D]*[Z11E/X16A]]-[[Z11C+Z11D]+abs[Z11C-Z11D]]]\",\n",
    "]\n"
   ]
  },
  {
   "cell_type": "code",
   "execution_count": 7,
   "metadata": {},
   "outputs": [
    {
     "name": "stdout",
     "output_type": "stream",
     "text": [
      "\u001b[0;31mInit signature:\u001b[0m\n",
      "\u001b[0mVisualizer\u001b[0m\u001b[0;34m(\u001b[0m\u001b[0;34m\u001b[0m\n",
      "\u001b[0;34m\u001b[0m    \u001b[0mdf\u001b[0m\u001b[0;34m,\u001b[0m\u001b[0;34m\u001b[0m\n",
      "\u001b[0;34m\u001b[0m    \u001b[0membedding_features\u001b[0m\u001b[0;34m,\u001b[0m\u001b[0;34m\u001b[0m\n",
      "\u001b[0;34m\u001b[0m    \u001b[0mhover_features\u001b[0m\u001b[0;34m,\u001b[0m\u001b[0;34m\u001b[0m\n",
      "\u001b[0;34m\u001b[0m    \u001b[0mtarget\u001b[0m\u001b[0;34m,\u001b[0m\u001b[0;34m\u001b[0m\n",
      "\u001b[0;34m\u001b[0m    \u001b[0msmart_fract\u001b[0m\u001b[0;34m=\u001b[0m\u001b[0;32mFalse\u001b[0m\u001b[0;34m,\u001b[0m\u001b[0;34m\u001b[0m\n",
      "\u001b[0;34m\u001b[0m    \u001b[0mconvex_hull\u001b[0m\u001b[0;34m=\u001b[0m\u001b[0;32mFalse\u001b[0m\u001b[0;34m,\u001b[0m\u001b[0;34m\u001b[0m\n",
      "\u001b[0;34m\u001b[0m    \u001b[0mregr_line_coefs\u001b[0m\u001b[0;34m=\u001b[0m\u001b[0;32mNone\u001b[0m\u001b[0;34m,\u001b[0m\u001b[0;34m\u001b[0m\n",
      "\u001b[0;34m\u001b[0m    \u001b[0mpath_to_structures\u001b[0m\u001b[0;34m=\u001b[0m\u001b[0;32mNone\u001b[0m\u001b[0;34m,\u001b[0m\u001b[0;34m\u001b[0m\n",
      "\u001b[0;34m\u001b[0m\u001b[0;34m)\u001b[0m\u001b[0;34m\u001b[0m\u001b[0;34m\u001b[0m\u001b[0m\n",
      "\u001b[0;31mDocstring:\u001b[0m      in 'Visualizer' all widgets defined in 'staticVisualizer' are given a specific action\n",
      "\u001b[0;31mFile:\u001b[0m           ~/Work/nomad-lab-visualizer/nomad_lab_visualizer/__init__.py\n",
      "\u001b[0;31mType:\u001b[0m           type\n",
      "\u001b[0;31mSubclasses:\u001b[0m     \n"
     ]
    }
   ],
   "source": []
  },
  {
   "cell_type": "code",
   "execution_count": 15,
   "metadata": {},
   "outputs": [
    {
     "data": {
      "text/html": [
       "<div>\n",
       "<style scoped>\n",
       "    .dataframe tbody tr th:only-of-type {\n",
       "        vertical-align: middle;\n",
       "    }\n",
       "\n",
       "    .dataframe tbody tr th {\n",
       "        vertical-align: top;\n",
       "    }\n",
       "\n",
       "    .dataframe thead th {\n",
       "        text-align: right;\n",
       "    }\n",
       "</style>\n",
       "<table border=\"1\" class=\"dataframe\">\n",
       "  <thead>\n",
       "    <tr style=\"text-align: right;\">\n",
       "      <th></th>\n",
       "      <th>Classification</th>\n",
       "      <th>abs[[[X16C+X16D]*[Z11E/X16A]]-[[Z11C+Z11D]+abs[Z11C-Z11D]]]</th>\n",
       "      <th>[[[Z11A+Z11B]*[Z11C+Z11D]]-abs[[Z11A*Z11D]-[Z11B*Z11C]]]</th>\n",
       "      <th>Classes</th>\n",
       "      <th>Structure</th>\n",
       "    </tr>\n",
       "    <tr>\n",
       "      <th>Compound</th>\n",
       "      <th></th>\n",
       "      <th></th>\n",
       "      <th></th>\n",
       "      <th></th>\n",
       "      <th></th>\n",
       "    </tr>\n",
       "  </thead>\n",
       "  <tbody>\n",
       "    <tr>\n",
       "      <th>Sb_Sb_Te_Te_Te</th>\n",
       "      <td>0.0</td>\n",
       "      <td>3.5512</td>\n",
       "      <td>10608.0</td>\n",
       "      <td>Topological insulators</td>\n",
       "      <td>Sb_Sb_Te_Te_Te.xyz</td>\n",
       "    </tr>\n",
       "    <tr>\n",
       "      <th>As_Bi_Te_Te_S</th>\n",
       "      <td>0.0</td>\n",
       "      <td>72.8810</td>\n",
       "      <td>9464.0</td>\n",
       "      <td>Topological insulators</td>\n",
       "      <td>As_Bi_Te_Te_S.xyz</td>\n",
       "    </tr>\n",
       "    <tr>\n",
       "      <th>Bi_Bi_Te_Se_Se</th>\n",
       "      <td>0.0</td>\n",
       "      <td>25.3960</td>\n",
       "      <td>12782.0</td>\n",
       "      <td>Topological insulators</td>\n",
       "      <td>Bi_Bi_Te_Se_Se.xyz</td>\n",
       "    </tr>\n",
       "    <tr>\n",
       "      <th>Bi_Sb_Te_S_Te</th>\n",
       "      <td>0.0</td>\n",
       "      <td>16.9900</td>\n",
       "      <td>7788.0</td>\n",
       "      <td>Topological insulators</td>\n",
       "      <td>Bi_Sb_Te_S_Te.xyz</td>\n",
       "    </tr>\n",
       "    <tr>\n",
       "      <th>Bi_As_Te_Se_Te</th>\n",
       "      <td>0.0</td>\n",
       "      <td>16.2180</td>\n",
       "      <td>8870.0</td>\n",
       "      <td>Topological insulators</td>\n",
       "      <td>Bi_As_Te_Se_Te.xyz</td>\n",
       "    </tr>\n",
       "    <tr>\n",
       "      <th>...</th>\n",
       "      <td>...</td>\n",
       "      <td>...</td>\n",
       "      <td>...</td>\n",
       "      <td>...</td>\n",
       "      <td>...</td>\n",
       "    </tr>\n",
       "    <tr>\n",
       "      <th>Bi_Sb_S_S_Se</th>\n",
       "      <td>1.0</td>\n",
       "      <td>54.8510</td>\n",
       "      <td>3776.0</td>\n",
       "      <td>Trivial insulators</td>\n",
       "      <td>Bi_Sb_S_S_Se.xyz</td>\n",
       "    </tr>\n",
       "    <tr>\n",
       "      <th>Sb_Sb_Te_Se_S</th>\n",
       "      <td>1.0</td>\n",
       "      <td>67.5510</td>\n",
       "      <td>7854.0</td>\n",
       "      <td>Trivial insulators</td>\n",
       "      <td>Sb_Sb_Te_Se_S.xyz</td>\n",
       "    </tr>\n",
       "    <tr>\n",
       "      <th>Sb_Sb_Se_Te_S</th>\n",
       "      <td>1.0</td>\n",
       "      <td>67.5510</td>\n",
       "      <td>7854.0</td>\n",
       "      <td>Trivial insulators</td>\n",
       "      <td>Sb_Sb_Se_Te_S.xyz</td>\n",
       "    </tr>\n",
       "    <tr>\n",
       "      <th>Bi_Bi_S_S_S</th>\n",
       "      <td>1.0</td>\n",
       "      <td>8.8713</td>\n",
       "      <td>5312.0</td>\n",
       "      <td>Trivial insulators</td>\n",
       "      <td>Bi_Bi_S_S_S.xyz</td>\n",
       "    </tr>\n",
       "    <tr>\n",
       "      <th>As_As_Te_Te_Se</th>\n",
       "      <td>1.0</td>\n",
       "      <td>37.8720</td>\n",
       "      <td>6864.0</td>\n",
       "      <td>Trivial insulators</td>\n",
       "      <td>As_As_Te_Te_Se.xyz</td>\n",
       "    </tr>\n",
       "  </tbody>\n",
       "</table>\n",
       "<p>152 rows × 5 columns</p>\n",
       "</div>"
      ],
      "text/plain": [
       "                Classification  \\\n",
       "Compound                         \n",
       "Sb_Sb_Te_Te_Te             0.0   \n",
       "As_Bi_Te_Te_S              0.0   \n",
       "Bi_Bi_Te_Se_Se             0.0   \n",
       "Bi_Sb_Te_S_Te              0.0   \n",
       "Bi_As_Te_Se_Te             0.0   \n",
       "...                        ...   \n",
       "Bi_Sb_S_S_Se               1.0   \n",
       "Sb_Sb_Te_Se_S              1.0   \n",
       "Sb_Sb_Se_Te_S              1.0   \n",
       "Bi_Bi_S_S_S                1.0   \n",
       "As_As_Te_Te_Se             1.0   \n",
       "\n",
       "                abs[[[X16C+X16D]*[Z11E/X16A]]-[[Z11C+Z11D]+abs[Z11C-Z11D]]]  \\\n",
       "Compound                                                                      \n",
       "Sb_Sb_Te_Te_Te                                             3.5512             \n",
       "As_Bi_Te_Te_S                                             72.8810             \n",
       "Bi_Bi_Te_Se_Se                                            25.3960             \n",
       "Bi_Sb_Te_S_Te                                             16.9900             \n",
       "Bi_As_Te_Se_Te                                            16.2180             \n",
       "...                                                           ...             \n",
       "Bi_Sb_S_S_Se                                              54.8510             \n",
       "Sb_Sb_Te_Se_S                                             67.5510             \n",
       "Sb_Sb_Se_Te_S                                             67.5510             \n",
       "Bi_Bi_S_S_S                                                8.8713             \n",
       "As_As_Te_Te_Se                                            37.8720             \n",
       "\n",
       "                [[[Z11A+Z11B]*[Z11C+Z11D]]-abs[[Z11A*Z11D]-[Z11B*Z11C]]]  \\\n",
       "Compound                                                                   \n",
       "Sb_Sb_Te_Te_Te                                            10608.0          \n",
       "As_Bi_Te_Te_S                                              9464.0          \n",
       "Bi_Bi_Te_Se_Se                                            12782.0          \n",
       "Bi_Sb_Te_S_Te                                              7788.0          \n",
       "Bi_As_Te_Se_Te                                             8870.0          \n",
       "...                                                           ...          \n",
       "Bi_Sb_S_S_Se                                               3776.0          \n",
       "Sb_Sb_Te_Se_S                                              7854.0          \n",
       "Sb_Sb_Se_Te_S                                              7854.0          \n",
       "Bi_Bi_S_S_S                                                5312.0          \n",
       "As_As_Te_Te_Se                                             6864.0          \n",
       "\n",
       "                               Classes           Structure  \n",
       "Compound                                                    \n",
       "Sb_Sb_Te_Te_Te  Topological insulators  Sb_Sb_Te_Te_Te.xyz  \n",
       "As_Bi_Te_Te_S   Topological insulators   As_Bi_Te_Te_S.xyz  \n",
       "Bi_Bi_Te_Se_Se  Topological insulators  Bi_Bi_Te_Se_Se.xyz  \n",
       "Bi_Sb_Te_S_Te   Topological insulators   Bi_Sb_Te_S_Te.xyz  \n",
       "Bi_As_Te_Se_Te  Topological insulators  Bi_As_Te_Se_Te.xyz  \n",
       "...                                ...                 ...  \n",
       "Bi_Sb_S_S_Se        Trivial insulators    Bi_Sb_S_S_Se.xyz  \n",
       "Sb_Sb_Te_Se_S       Trivial insulators   Sb_Sb_Te_Se_S.xyz  \n",
       "Sb_Sb_Se_Te_S       Trivial insulators   Sb_Sb_Se_Te_S.xyz  \n",
       "Bi_Bi_S_S_S         Trivial insulators     Bi_Bi_S_S_S.xyz  \n",
       "As_As_Te_Te_Se      Trivial insulators  As_As_Te_Te_Se.xyz  \n",
       "\n",
       "[152 rows x 5 columns]"
      ]
     },
     "execution_count": 15,
     "metadata": {},
     "output_type": "execute_result"
    }
   ],
   "source": [
    "df"
   ]
  },
  {
   "cell_type": "code",
   "execution_count": 23,
   "metadata": {
    "ExecuteTime": {
     "end_time": "2022-09-07T10:43:27.311811Z",
     "start_time": "2022-09-07T10:43:27.097060Z"
    },
    "scrolled": true
   },
   "outputs": [],
   "source": [
    "visualizer = Visualizer(\n",
    "    df, \n",
    "    features, \n",
    "    features, \n",
    "    convex_hull=True, \n",
    "    target=\"Classification\", \n",
    "    # path_to_structures='data/tetradymites/structures'\n",
    ")\n"
   ]
  },
  {
   "cell_type": "code",
   "execution_count": 24,
   "metadata": {
    "ExecuteTime": {
     "end_time": "2022-09-07T10:43:28.384297Z",
     "start_time": "2022-09-07T10:43:28.291687Z"
    },
    "scrolled": false
   },
   "outputs": [
    {
     "data": {
      "application/vnd.jupyter.widget-view+json": {
       "model_id": "b659d1db66a14da38a69685387d8b454",
       "version_major": 2,
       "version_minor": 0
      },
      "text/plain": [
       "VBox(children=(VBox(children=(HBox(children=(VBox(children=(Dropdown(description='x-axis', layout=Layout(width…"
      ]
     },
     "metadata": {},
     "output_type": "display_data"
    }
   ],
   "source": [
    "visualizer.show()\n"
   ]
  },
  {
   "cell_type": "code",
   "execution_count": null,
   "metadata": {},
   "outputs": [],
   "source": []
  }
 ],
 "metadata": {
  "kernelspec": {
   "display_name": "Python 3 (ipykernel)",
   "language": "python",
   "name": "python3"
  },
  "language_info": {
   "codemirror_mode": {
    "name": "ipython",
    "version": 3
   },
   "file_extension": ".py",
   "mimetype": "text/x-python",
   "name": "python",
   "nbconvert_exporter": "python",
   "pygments_lexer": "ipython3",
   "version": "3.10.6"
  },
  "vscode": {
   "interpreter": {
    "hash": "167aa5bbf7d087246cb59b919d53bb10bd139402a1d5a932a7cbff3c8a777b14"
   }
  }
 },
 "nbformat": 4,
 "nbformat_minor": 2
}
