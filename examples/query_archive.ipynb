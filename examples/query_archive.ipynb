{
 "cells": [
  {
   "cell_type": "code",
   "execution_count": 1,
   "id": "a748a759",
   "metadata": {
    "ExecuteTime": {
     "end_time": "2022-09-07T10:32:37.724258Z",
     "start_time": "2022-09-07T10:32:36.911514Z"
    }
   },
   "outputs": [],
   "source": [
    "import pandas as pd\n",
    "from nomad_lab_visualizer import Visualizer\n"
   ]
  },
  {
   "cell_type": "code",
   "execution_count": 23,
   "id": "5b604822",
   "metadata": {
    "ExecuteTime": {
     "end_time": "2022-09-07T10:32:37.743476Z",
     "start_time": "2022-09-07T10:32:37.725984Z"
    }
   },
   "outputs": [],
   "source": [
    "df = pd.read_pickle(\"./data/query_archive/df\")\n"
   ]
  },
  {
   "cell_type": "code",
   "execution_count": 24,
   "id": "b475350e",
   "metadata": {
    "ExecuteTime": {
     "end_time": "2022-09-07T10:32:37.759625Z",
     "start_time": "2022-09-07T10:32:37.744953Z"
    }
   },
   "outputs": [],
   "source": [
    "embedding_features = [\"x_emb\", \"y_emb\", \"Atomic_number_A\", \"Atomic_number_B\"]\n",
    "hover_features = [\n",
    "    \"Atomic_number_A\",\n",
    "    \"Atomic_number_B\",\n",
    "    \"Space_group_number\",\n",
    "    \"Atomic_density\",\n",
    "    \"Cluster_label\",\n",
    "]\n"
   ]
  },
  {
   "cell_type": "code",
   "execution_count": 25,
   "id": "192b55f5",
   "metadata": {
    "ExecuteTime": {
     "end_time": "2022-09-07T10:32:38.321873Z",
     "start_time": "2022-09-07T10:32:37.760985Z"
    },
    "scrolled": true
   },
   "outputs": [],
   "source": [
    "visualizer = Visualizer(\n",
    "    df,\n",
    "    embedding_features,\n",
    "    hover_features,\n",
    "    target=\"Cluster_label\",\n",
    "    path_to_structures=True,\n",
    "    smart_fract=False,\n",
    "    convex_hull=False,\n",
    ")\n"
   ]
  },
  {
   "cell_type": "code",
   "execution_count": 26,
   "id": "e35972ab",
   "metadata": {
    "ExecuteTime": {
     "end_time": "2022-09-07T10:32:38.706460Z",
     "start_time": "2022-09-07T10:32:38.323760Z"
    },
    "scrolled": false
   },
   "outputs": [
    {
     "data": {
      "application/vnd.jupyter.widget-view+json": {
       "model_id": "027061e6e0cf499ca92a2598f84f7dbf",
       "version_major": 2,
       "version_minor": 0
      },
      "text/plain": [
       "VBox(children=(VBox(children=(HBox(children=(VBox(children=(Dropdown(description='x-axis', layout=Layout(width…"
      ]
     },
     "metadata": {},
     "output_type": "display_data"
    }
   ],
   "source": [
    "visualizer.show()\n"
   ]
  },
  {
   "cell_type": "code",
   "execution_count": null,
   "id": "dd588dec",
   "metadata": {},
   "outputs": [],
   "source": []
  }
 ],
 "metadata": {
  "kernelspec": {
   "display_name": "Python 3 (ipykernel)",
   "language": "python",
   "name": "python3"
  },
  "language_info": {
   "codemirror_mode": {
    "name": "ipython",
    "version": 3
   },
   "file_extension": ".py",
   "mimetype": "text/x-python",
   "name": "python",
   "nbconvert_exporter": "python",
   "pygments_lexer": "ipython3",
   "version": "3.7.13"
  },
  "vscode": {
   "interpreter": {
    "hash": "167aa5bbf7d087246cb59b919d53bb10bd139402a1d5a932a7cbff3c8a777b14"
   }
  }
 },
 "nbformat": 4,
 "nbformat_minor": 5
}
