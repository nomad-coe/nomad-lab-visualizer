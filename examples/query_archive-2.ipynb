{
 "cells": [
  {
   "cell_type": "code",
   "execution_count": 1,
   "id": "3a793a39",
   "metadata": {},
   "outputs": [],
   "source": [
    "%load_ext autoreload\n",
    "%autoreload 2"
   ]
  },
  {
   "cell_type": "code",
   "execution_count": 14,
   "id": "037ae963",
   "metadata": {
    "ExecuteTime": {
     "end_time": "2022-09-07T10:32:37.724258Z",
     "start_time": "2022-09-07T10:32:36.911514Z"
    }
   },
   "outputs": [],
   "source": [
    "\n",
    "import pandas as pd\n",
    "from nomad_lab_visualizer import Visualizer\n",
    "from nomad_lab_visualizer import Visualizer2\n"
   ]
  },
  {
   "cell_type": "code",
   "execution_count": 15,
   "id": "cde77f09",
   "metadata": {},
   "outputs": [
    {
     "name": "stdout",
     "output_type": "stream",
     "text": [
      "['#636EFA', '#EF553B', '#00CC96', '#AB63FA', '#FFA15A', '#19D3F3', '#FF6692', '#B6E880', '#FF97FF', '#FECB52']\n"
     ]
    }
   ],
   "source": [
    "import plotly.express as px\n",
    "\n",
    "print(px.colors.qualitative.Plotly)"
   ]
  },
  {
   "cell_type": "code",
   "execution_count": 3,
   "id": "829cfefa",
   "metadata": {
    "ExecuteTime": {
     "end_time": "2022-09-07T10:32:37.743476Z",
     "start_time": "2022-09-07T10:32:37.725984Z"
    }
   },
   "outputs": [],
   "source": [
    "df = pd.read_pickle(\"./data/query_archive/df\")"
   ]
  },
  {
   "cell_type": "code",
   "execution_count": 98,
   "id": "0e4a1004",
   "metadata": {
    "ExecuteTime": {
     "end_time": "2022-09-07T10:32:38.321873Z",
     "start_time": "2022-09-07T10:32:37.760985Z"
    },
    "scrolled": true
   },
   "outputs": [
    {
     "ename": "NameError",
     "evalue": "name 'x' is not defined",
     "output_type": "error",
     "traceback": [
      "\u001b[0;31m---------------------------------------------------------------------------\u001b[0m",
      "\u001b[0;31mNameError\u001b[0m                                 Traceback (most recent call last)",
      "Cell \u001b[0;32mIn [98], line 1\u001b[0m\n\u001b[0;32m----> 1\u001b[0m visualizer \u001b[39m=\u001b[39m Visualizer2(\n\u001b[1;32m      2\u001b[0m     df,\n\u001b[1;32m      3\u001b[0m     feature_cols\u001b[39m=\u001b[39;49m[\u001b[39m\"\u001b[39;49m\u001b[39mx_emb\u001b[39;49m\u001b[39m\"\u001b[39;49m, \u001b[39m\"\u001b[39;49m\u001b[39my_emb\u001b[39;49m\u001b[39m\"\u001b[39;49m, \u001b[39m\"\u001b[39;49m\u001b[39mAtomic_number_A\u001b[39;49m\u001b[39m\"\u001b[39;49m, \u001b[39m\"\u001b[39;49m\u001b[39mAtomic_number_B\u001b[39;49m\u001b[39m\"\u001b[39;49m],\n\u001b[1;32m      4\u001b[0m     target_cols\u001b[39m=\u001b[39;49m[\u001b[39m\"\u001b[39;49m\u001b[39mCluster_label\u001b[39;49m\u001b[39m\"\u001b[39;49m],\n\u001b[1;32m      5\u001b[0m     caption_cols\u001b[39m=\u001b[39;49m[\n\u001b[1;32m      6\u001b[0m         \u001b[39m\"\u001b[39;49m\u001b[39mAtomic_number_A\u001b[39;49m\u001b[39m\"\u001b[39;49m,\n\u001b[1;32m      7\u001b[0m         \u001b[39m\"\u001b[39;49m\u001b[39mAtomic_number_B\u001b[39;49m\u001b[39m\"\u001b[39;49m,\n\u001b[1;32m      8\u001b[0m         \u001b[39m\"\u001b[39;49m\u001b[39mSpace_group_number\u001b[39;49m\u001b[39m\"\u001b[39;49m,\n\u001b[1;32m      9\u001b[0m         \u001b[39m\"\u001b[39;49m\u001b[39mAtomic_density\u001b[39;49m\u001b[39m\"\u001b[39;49m,\n\u001b[1;32m     10\u001b[0m         \u001b[39m\"\u001b[39;49m\u001b[39mCluster_label\u001b[39;49m\u001b[39m\"\u001b[39;49m,\n\u001b[1;32m     11\u001b[0m         \u001b[39m\"\u001b[39;49m\u001b[39mReplicas\u001b[39;49m\u001b[39m\"\u001b[39;49m,\n\u001b[1;32m     12\u001b[0m     ]\n\u001b[1;32m     13\u001b[0m )\n",
      "File \u001b[0;32m~/Work/nomad-visu/src/nomad_lab_visualizer/__init__.py:70\u001b[0m, in \u001b[0;36mVisualizer2.__init__\u001b[0;34m(self, df, feature_cols, target_cols, fracture, caption_cols, structure_col)\u001b[0m\n\u001b[1;32m     55\u001b[0m         \u001b[39mself\u001b[39m\u001b[39m.\u001b[39mwidget_settings \u001b[39m=\u001b[39m SettingsWidget(\n\u001b[1;32m     56\u001b[0m             feature_cols,\n\u001b[1;32m     57\u001b[0m             target_cols,\n\u001b[1;32m     58\u001b[0m             fracture,\n\u001b[1;32m     59\u001b[0m         )\n\u001b[1;32m     61\u001b[0m \u001b[39m#         labels = df[target].unique().tolist()\u001b[39;00m\n\u001b[1;32m     62\u001b[0m \u001b[39m#\u001b[39;00m\n\u001b[1;32m     63\u001b[0m \u001b[39m#         x = []\u001b[39;00m\n\u001b[0;32m   (...)\u001b[0m\n\u001b[1;32m     67\u001b[0m \u001b[39m#             x.append(df[embedding_features[0]][mask].to_numpy())\u001b[39;00m\n\u001b[1;32m     68\u001b[0m \u001b[39m#             y.append(df[embedding_features[1]][mask].to_numpy())\u001b[39;00m\n\u001b[0;32m---> 70\u001b[0m         figure \u001b[39m=\u001b[39m FigureWidget(x, y, labels\u001b[39m=\u001b[39mlabels)\n\u001b[1;32m     72\u001b[0m         viewer1 \u001b[39m=\u001b[39m AtomisticViewerWidget()\n\u001b[1;32m     73\u001b[0m         viewer2 \u001b[39m=\u001b[39m AtomisticViewerWidget()\n",
      "\u001b[0;31mNameError\u001b[0m: name 'x' is not defined"
     ]
    }
   ],
   "source": [
    "visualizer = Visualizer2(\n",
    "    df,\n",
    "    feature_cols=[\"x_emb\", \"y_emb\", \"Atomic_number_A\", \"Atomic_number_B\"],\n",
    "    target_cols=[\"Cluster_label\"],\n",
    "    caption_cols=[\n",
    "        \"Atomic_number_A\",\n",
    "        \"Atomic_number_B\",\n",
    "        \"Space_group_number\",\n",
    "        \"Atomic_density\",\n",
    "        \"Cluster_label\",\n",
    "        \"Replicas\",\n",
    "    ]\n",
    ")\n"
   ]
  },
  {
   "cell_type": "code",
   "execution_count": 94,
   "id": "99db621f",
   "metadata": {},
   "outputs": [],
   "source": [
    "from nomad_lab_visualizer.config import config, ColormapContinuousEnum\n",
    "from nomad_lab_visualizer.settings_widget import SettingsWidget\n"
   ]
  },
  {
   "cell_type": "code",
   "execution_count": 95,
   "id": "565cb7e6",
   "metadata": {},
   "outputs": [],
   "source": [
    "\n",
    "from nomad_lab_visualizer.settings_widget import SettingsWidget"
   ]
  },
  {
   "cell_type": "code",
   "execution_count": 96,
   "id": "dfbb0c83",
   "metadata": {},
   "outputs": [
    {
     "data": {
      "application/vnd.jupyter.widget-view+json": {
       "model_id": "92784afe8e474349a897e696a0976d2f",
       "version_major": 2,
       "version_minor": 0
      },
      "text/plain": [
       "SettingsWidget(children=(VBox(children=(Dropdown(description='x-axis', layout=Layout(width='250px'), options=(…"
      ]
     },
     "metadata": {},
     "output_type": "display_data"
    }
   ],
   "source": [
    "settings_widget = SettingsWidget(['a','b', 'c'], ['b', 'c'])\n",
    "settings_widget"
   ]
  },
  {
   "cell_type": "code",
   "execution_count": null,
   "id": "014766a6",
   "metadata": {},
   "outputs": [],
   "source": []
  },
  {
   "cell_type": "code",
   "execution_count": null,
   "id": "4087021b",
   "metadata": {},
   "outputs": [],
   "source": []
  },
  {
   "cell_type": "code",
   "execution_count": null,
   "id": "41bb3f1b",
   "metadata": {},
   "outputs": [],
   "source": []
  },
  {
   "cell_type": "code",
   "execution_count": null,
   "id": "7bf62383",
   "metadata": {},
   "outputs": [],
   "source": []
  },
  {
   "cell_type": "code",
   "execution_count": 10,
   "id": "3f706ab6",
   "metadata": {
    "scrolled": false
   },
   "outputs": [
    {
     "data": {
      "application/vnd.jupyter.widget-view+json": {
       "model_id": "8ff99f35d0dd4b3e9728a1ed75eda32b",
       "version_major": 2,
       "version_minor": 0
      },
      "text/plain": [
       "VBox(children=(VBox(children=(HBox(children=(VBox(children=(Dropdown(description='x-axis', layout=Layout(width…"
      ]
     },
     "metadata": {},
     "output_type": "display_data"
    }
   ],
   "source": [
    "visualizer.show()\n"
   ]
  },
  {
   "cell_type": "code",
   "execution_count": null,
   "id": "111101c6",
   "metadata": {},
   "outputs": [],
   "source": []
  }
 ],
 "metadata": {
  "kernelspec": {
   "display_name": "Python 3 (ipykernel)",
   "language": "python",
   "name": "python3"
  },
  "language_info": {
   "codemirror_mode": {
    "name": "ipython",
    "version": 3
   },
   "file_extension": ".py",
   "mimetype": "text/x-python",
   "name": "python",
   "nbconvert_exporter": "python",
   "pygments_lexer": "ipython3",
   "version": "3.10.6"
  },
  "vscode": {
   "interpreter": {
    "hash": "167aa5bbf7d087246cb59b919d53bb10bd139402a1d5a932a7cbff3c8a777b14"
   }
  }
 },
 "nbformat": 4,
 "nbformat_minor": 5
}
