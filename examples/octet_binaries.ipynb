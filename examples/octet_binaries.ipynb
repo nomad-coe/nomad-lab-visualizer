{
 "cells": [
  {
   "cell_type": "code",
   "execution_count": null,
   "id": "6bff6a81",
   "metadata": {},
   "outputs": [],
   "source": [
    "%reload_ext autoreload\n",
    "%autoreload 2"
   ]
  },
  {
   "cell_type": "code",
   "execution_count": null,
   "id": "b5711a14",
   "metadata": {
    "ExecuteTime": {
     "end_time": "2022-09-07T10:15:52.885896Z",
     "start_time": "2022-09-07T10:15:52.169988Z"
    }
   },
   "outputs": [],
   "source": [
    "import numpy as np\n",
    "import pandas as pd\n",
    "\n",
    "from nomad_lab_visualizer import Visualizer, Visualizer2"
   ]
  },
  {
   "cell_type": "code",
   "execution_count": null,
   "id": "33b66975",
   "metadata": {
    "ExecuteTime": {
     "end_time": "2022-09-07T10:15:52.898158Z",
     "start_time": "2022-09-07T10:15:52.887440Z"
    }
   },
   "outputs": [],
   "source": [
    "df = pd.read_pickle(\"./data/octet_binaries/df\")\n",
    "\n",
    "features = [\"((|IP_B  - EA_B |) / (r_p_A^2))\", \"((|r_s_A - r_p_B|) / exp(r_s_A))\"]\n",
    "regr_line_coefs = [0.11425013108281612, -1.48249992475763]\n",
    "intercept = -0.1447151781886926\n",
    "\n",
    "df['Rand']=np.random.randint(0,3, size=82)\n",
    "df=df.drop(['File','Replicas'], axis=1)\n",
    "df "
   ]
  },
  {
   "cell_type": "markdown",
   "id": "4444599a",
   "metadata": {},
   "source": []
  },
  {
   "cell_type": "code",
   "execution_count": null,
   "id": "fbb2542b",
   "metadata": {
    "ExecuteTime": {
     "end_time": "2022-09-07T10:15:53.358085Z",
     "start_time": "2022-09-07T10:15:52.924098Z"
    },
    "scrolled": true
   },
   "outputs": [],
   "source": [
    "visualizer = Visualizer(\n",
    "    df,\n",
    "    features+['Rand', \"Classification\"],\n",
    "    features+['Rand', \"Classification\"],\n",
    "    target=\"Rand\",\n",
    "    path_to_structures=True,\n",
    ")\n",
    "# visualizer.add_convex_hull()\n",
    "# visualizer.remove_convex_hull()\n",
    "visualizer.add_regr_line([regr_line_coefs, intercept], features[0], features[1])\n",
    "# visualizer.remove_regr_line(features[0], features[1])\n",
    "# visualizer.optimize_fract()\n",
    "visualizer.show()\n"
   ]
  },
  {
   "cell_type": "code",
   "execution_count": null,
   "id": "5fd3a09c",
   "metadata": {},
   "outputs": [],
   "source": [
    "df"
   ]
  },
  {
   "cell_type": "code",
   "execution_count": null,
   "id": "fbb2542b",
   "metadata": {
    "ExecuteTime": {
     "end_time": "2022-09-07T10:15:53.358085Z",
     "start_time": "2022-09-07T10:15:52.924098Z"
    },
    "scrolled": true
   },
   "outputs": [],
   "source": [
    "visualizer2 = Visualizer2(\n",
    "    df,\n",
    "    features+['Rand'],\n",
    "    features+['Rand'],\n",
    "    target=\"Classification\",\n",
    "    show_structures=True\n",
    ")\n",
    "visualizer2"
   ]
  },
  {
   "cell_type": "code",
   "execution_count": null,
   "id": "c372f3cf",
   "metadata": {},
   "outputs": [],
   "source": []
  },
  {
   "cell_type": "code",
   "execution_count": null,
   "id": "e3d572ff",
   "metadata": {},
   "outputs": [],
   "source": []
  },
  {
   "cell_type": "code",
   "execution_count": null,
   "id": "f65bafbf",
   "metadata": {},
   "outputs": [],
   "source": []
  },
  {
   "cell_type": "code",
   "execution_count": null,
   "id": "9fb628a5",
   "metadata": {},
   "outputs": [],
   "source": []
  },
  {
   "cell_type": "code",
   "execution_count": null,
   "id": "66931aa3",
   "metadata": {},
   "outputs": [],
   "source": []
  },
  {
   "cell_type": "code",
   "execution_count": null,
   "id": "92c638a8",
   "metadata": {},
   "outputs": [],
   "source": []
  },
  {
   "cell_type": "code",
   "execution_count": null,
   "id": "34a5bcc7",
   "metadata": {},
   "outputs": [],
   "source": []
  },
  {
   "cell_type": "code",
   "execution_count": null,
   "id": "7197dd8a",
   "metadata": {},
   "outputs": [],
   "source": []
  }
 ],
 "metadata": {
  "kernelspec": {
   "display_name": "Python 3 (ipykernel)",
   "language": "python",
   "name": "python3"
  },
  "language_info": {
   "codemirror_mode": {
    "name": "ipython",
    "version": 3
   },
   "file_extension": ".py",
   "mimetype": "text/x-python",
   "name": "python",
   "nbconvert_exporter": "python",
   "pygments_lexer": "ipython3",
   "version": "3.10.6"
  },
  "vscode": {
   "interpreter": {
    "hash": "167aa5bbf7d087246cb59b919d53bb10bd139402a1d5a932a7cbff3c8a777b14"
   }
  }
 },
 "nbformat": 4,
 "nbformat_minor": 5
}
