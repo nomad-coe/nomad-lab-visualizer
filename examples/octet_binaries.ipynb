{
 "cells": [
  {
   "cell_type": "code",
   "execution_count": 2,
   "id": "6c82d7bc",
   "metadata": {
    "ExecuteTime": {
     "end_time": "2022-09-07T10:15:52.885896Z",
     "start_time": "2022-09-07T10:15:52.169988Z"
    }
   },
   "outputs": [],
   "source": [
    "import pandas as pd\n",
    "from nomad_lab_visualizer import Visualizer"
   ]
  },
  {
   "cell_type": "code",
   "execution_count": 3,
   "id": "33b66975",
   "metadata": {
    "ExecuteTime": {
     "end_time": "2022-09-07T10:15:52.898158Z",
     "start_time": "2022-09-07T10:15:52.887440Z"
    }
   },
   "outputs": [],
   "source": [
    "df = pd.read_pickle(\"./data/octet_binaries/df\")"
   ]
  },
  {
   "cell_type": "code",
   "execution_count": 4,
   "id": "add8539b",
   "metadata": {
    "ExecuteTime": {
     "end_time": "2022-09-07T10:15:52.910424Z",
     "start_time": "2022-09-07T10:15:52.899807Z"
    }
   },
   "outputs": [],
   "source": [
    "regr_line_coefs = [0.11425013108281612, -1.48249992475763]\n",
    "intercept = -0.1447151781886926"
   ]
  },
  {
   "cell_type": "code",
   "execution_count": 5,
   "id": "f3c309f5",
   "metadata": {
    "ExecuteTime": {
     "end_time": "2022-09-07T10:15:52.922772Z",
     "start_time": "2022-09-07T10:15:52.911837Z"
    }
   },
   "outputs": [],
   "source": [
    "features = [\"((|IP_B  - EA_B |) / (r_p_A^2))\", \"((|r_s_A - r_p_B|) / exp(r_s_A))\"]"
   ]
  },
  {
   "cell_type": "code",
   "execution_count": 6,
   "id": "fbb2542b",
   "metadata": {
    "ExecuteTime": {
     "end_time": "2022-09-07T10:15:53.358085Z",
     "start_time": "2022-09-07T10:15:52.924098Z"
    },
    "scrolled": true
   },
   "outputs": [],
   "source": [
    "visualizer = Visualizer(\n",
    "    df,\n",
    "    features,\n",
    "    features,\n",
    "    target=\"Classification\",\n",
    "      path_to_structures=True,\n",
    "    regr_line_coefs=[regr_line_coefs, intercept],\n",
    "    smart_fract=True,\n",
    "    convex_hull=True,\n",
    ")\n"
   ]
  },
  {
   "cell_type": "code",
   "execution_count": 7,
   "id": "4ab89448",
   "metadata": {
    "ExecuteTime": {
     "end_time": "2022-09-07T10:15:53.507021Z",
     "start_time": "2022-09-07T10:15:53.360324Z"
    },
    "scrolled": false
   },
   "outputs": [
    {
     "data": {
      "application/vnd.jupyter.widget-view+json": {
       "model_id": "d4214c14f9544f8282ebf490cb114a71",
       "version_major": 2,
       "version_minor": 0
      },
      "text/plain": [
       "VBox(children=(VBox(children=(HBox(children=(VBox(children=(Dropdown(description='x-axis', layout=Layout(width…"
      ]
     },
     "metadata": {},
     "output_type": "display_data"
    }
   ],
   "source": [
    "visualizer.show()\n"
   ]
  },
  {
   "cell_type": "code",
   "execution_count": null,
   "id": "0222a6ee",
   "metadata": {},
   "outputs": [],
   "source": []
  }
 ],
 "metadata": {
  "kernelspec": {
   "display_name": "Python 3 (ipykernel)",
   "language": "python",
   "name": "python3"
  },
  "language_info": {
   "codemirror_mode": {
    "name": "ipython",
    "version": 3
   },
   "file_extension": ".py",
   "mimetype": "text/x-python",
   "name": "python",
   "nbconvert_exporter": "python",
   "pygments_lexer": "ipython3",
   "version": "3.7.13"
  },
  "vscode": {
   "interpreter": {
    "hash": "167aa5bbf7d087246cb59b919d53bb10bd139402a1d5a932a7cbff3c8a777b14"
   }
  }
 },
 "nbformat": 4,
 "nbformat_minor": 5
}
