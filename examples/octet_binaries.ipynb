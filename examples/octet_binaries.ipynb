{
 "cells": [
  {
   "cell_type": "code",
   "execution_count": null,
   "id": "b5711a14",
   "metadata": {
    "ExecuteTime": {
     "end_time": "2022-09-07T10:15:52.885896Z",
     "start_time": "2022-09-07T10:15:52.169988Z"
    }
   },
   "outputs": [],
   "source": [
    "import pandas as pd\n",
    "from nomad_visu import Visualizer"
   ]
  },
  {
   "cell_type": "code",
   "execution_count": null,
   "id": "33b66975",
   "metadata": {
    "ExecuteTime": {
     "end_time": "2022-09-07T10:15:52.898158Z",
     "start_time": "2022-09-07T10:15:52.887440Z"
    }
   },
   "outputs": [],
   "source": [
    "df = pd.read_pickle(\"./data/octet_binaries/df\")"
   ]
  },
  {
   "cell_type": "code",
   "execution_count": null,
   "id": "add8539b",
   "metadata": {
    "ExecuteTime": {
     "end_time": "2022-09-07T10:15:52.910424Z",
     "start_time": "2022-09-07T10:15:52.899807Z"
    }
   },
   "outputs": [],
   "source": [
    "regr_line_coefs = [0.11425013108281612, -1.48249992475763]\n",
    "intercept = -0.1447151781886926"
   ]
  },
  {
   "cell_type": "code",
   "execution_count": null,
   "id": "f3c309f5",
   "metadata": {
    "ExecuteTime": {
     "end_time": "2022-09-07T10:15:52.922772Z",
     "start_time": "2022-09-07T10:15:52.911837Z"
    }
   },
   "outputs": [],
   "source": [
    "features = [\"((|IP_B  - EA_B |) / (r_p_A^2))\", \"((|r_s_A - r_p_B|) / exp(r_s_A))\"]"
   ]
  },
  {
   "cell_type": "code",
   "execution_count": null,
   "id": "67703324",
   "metadata": {},
   "outputs": [],
   "source": [
    "import numpy as np"
   ]
  },
  {
   "cell_type": "code",
   "execution_count": null,
   "id": "db8c5223",
   "metadata": {},
   "outputs": [],
   "source": [
    "df['Rand']=np.random.randint(0,3, size=82)"
   ]
  },
  {
   "cell_type": "code",
   "execution_count": null,
   "id": "37a15dc5",
   "metadata": {},
   "outputs": [],
   "source": [
    "df=df.drop(['File','Replicas'], axis=1)"
   ]
  },
  {
   "cell_type": "code",
   "execution_count": null,
   "id": "fbb2542b",
   "metadata": {
    "ExecuteTime": {
     "end_time": "2022-09-07T10:15:53.358085Z",
     "start_time": "2022-09-07T10:15:52.924098Z"
    },
    "scrolled": true
   },
   "outputs": [],
   "source": [
    "visualizer = Visualizer(\n",
    "    df,\n",
    "    features+['Rand'],\n",
    "    features+['Rand'],\n",
    "    target=\"Classification\",\n",
    "    path_to_structures=True,\n",
    ")\n"
   ]
  },
  {
   "cell_type": "code",
   "execution_count": null,
   "id": "9be4c750",
   "metadata": {},
   "outputs": [],
   "source": [
    "visualizer.add_convex_hull()"
   ]
  },
  {
   "cell_type": "code",
   "execution_count": null,
   "id": "9cbcc684",
   "metadata": {},
   "outputs": [],
   "source": [
    "visualizer.remove_convex_hull()"
   ]
  },
  {
   "cell_type": "code",
   "execution_count": null,
   "id": "b8622764",
   "metadata": {},
   "outputs": [],
   "source": [
    "visualizer.add_regr_line([regr_line_coefs, intercept], features[0], features[1])"
   ]
  },
  {
   "cell_type": "code",
   "execution_count": null,
   "id": "21007b23",
   "metadata": {},
   "outputs": [],
   "source": [
    "visualizer.remove_regr_line(features[0], features[1])"
   ]
  },
  {
   "cell_type": "code",
   "execution_count": null,
   "id": "08ef66a1",
   "metadata": {},
   "outputs": [],
   "source": [
    "visualizer.optimize_fract()"
   ]
  },
  {
   "cell_type": "code",
   "execution_count": null,
   "id": "a85ac5b8",
   "metadata": {
    "scrolled": false
   },
   "outputs": [],
   "source": [
    "visualizer.show()\n"
   ]
  }
 ],
 "metadata": {
  "kernelspec": {
   "display_name": "Python 3 (ipykernel)",
   "language": "python",
   "name": "python3"
  },
  "language_info": {
   "codemirror_mode": {
    "name": "ipython",
    "version": 3
   },
   "file_extension": ".py",
   "mimetype": "text/x-python",
   "name": "python",
   "nbconvert_exporter": "python",
   "pygments_lexer": "ipython3",
   "version": "3.10.6"
  },
  "vscode": {
   "interpreter": {
    "hash": "167aa5bbf7d087246cb59b919d53bb10bd139402a1d5a932a7cbff3c8a777b14"
   }
  }
 },
 "nbformat": 4,
 "nbformat_minor": 5
}
